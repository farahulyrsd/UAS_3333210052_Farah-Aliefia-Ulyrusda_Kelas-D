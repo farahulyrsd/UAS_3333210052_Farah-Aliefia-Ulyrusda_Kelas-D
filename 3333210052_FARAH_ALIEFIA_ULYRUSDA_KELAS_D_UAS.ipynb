{
  "cells": [
    {
      "cell_type": "markdown",
      "metadata": {
        "id": "view-in-github",
        "colab_type": "text"
      },
      "source": [
        "<a href=\"https://colab.research.google.com/github/farahulyrsd/UAS_3333210052_Farah-Aliefia-Ulyrusda_Kelas-D/blob/main/3333210052_FARAH_ALIEFIA_ULYRUSDA_KELAS_D_UAS.ipynb\" target=\"_parent\"><img src=\"https://colab.research.google.com/assets/colab-badge.svg\" alt=\"Open In Colab\"/></a>"
      ]
    },
    {
      "cell_type": "markdown",
      "source": [
        "**Time Series**\n",
        "\n",
        "A time-series is a series of data points indexed in time order and it is used to predict the future based on the previous observed values. Time series are very frequently plotted via line charts. Time series are used in statistics , weather forecasting, stock price prediction, pattern recognititon, earthquake prediction, e.t.c.\n",
        "\n",
        "Time series analysis comprises methods for analysing time series data in order to extract meaningful statistics and other characteristics of the data.\n",
        "\n",
        "Time series forecasting is the use of a model to predict future values based on previously observed values."
      ],
      "metadata": {
        "id": "ceTGfrcAoIyG"
      }
    },
    {
      "cell_type": "markdown",
      "source": [
        "**Import Library**"
      ],
      "metadata": {
        "id": "KTuS__yhzwG4"
      }
    },
    {
      "cell_type": "code",
      "source": [
        "import pandas as pd\n",
        "import numpy as np\n",
        "import matplotlib.pyplot as plt\n",
        "import seaborn as sns\n",
        "import math\n",
        "import datetime\n",
        "%matplotlib inline"
      ],
      "metadata": {
        "id": "uCngqnD4qrmY"
      },
      "execution_count": 22,
      "outputs": []
    },
    {
      "cell_type": "markdown",
      "source": [
        "**Import Dataset**"
      ],
      "metadata": {
        "id": "8hRjDuoyzlpH"
      }
    },
    {
      "cell_type": "markdown",
      "source": [
        "Dataset source : https://www.kaggle.com/datasets/meetnagadia/walmart-stock-price-from-19722022"
      ],
      "metadata": {
        "id": "IzZdTvtYzpUg"
      }
    },
    {
      "cell_type": "markdown",
      "source": [
        "Dataset yang digunakan adalah kumpulan data untuk harga saham di Walmart Inc.\n",
        "Harga dalam mata uang USD (US Dollar)."
      ],
      "metadata": {
        "id": "PKRuI8PTY3La"
      }
    },
    {
      "cell_type": "code",
      "source": [
        "# https://drive.google.com/file/d/1Q1pLfs6eBmenty4K632LLAWCGVVHGrJT/view?usp=sharing\n",
        "\n",
        "!gdown 1Q1pLfs6eBmenty4K632LLAWCGVVHGrJT"
      ],
      "metadata": {
        "colab": {
          "base_uri": "https://localhost:8080/"
        },
        "id": "sKdunXrwzd2e",
        "outputId": "6aeb0e84-5aad-46f3-a9e9-1c7fafc64278"
      },
      "execution_count": 23,
      "outputs": [
        {
          "output_type": "stream",
          "name": "stdout",
          "text": [
            "Downloading...\n",
            "From: https://drive.google.com/uc?id=1Q1pLfs6eBmenty4K632LLAWCGVVHGrJT\n",
            "To: /content/WMT.csv\n",
            "\r  0% 0.00/178k [00:00<?, ?B/s]\r100% 178k/178k [00:00<00:00, 76.9MB/s]\n"
          ]
        }
      ]
    },
    {
      "cell_type": "markdown",
      "source": [
        "Terdapat date time untuk menganalisis time series atau forecasting sebagai acuan. Terdapat fitur lainnya seperti open yaitu adalah harga di mana keamanan finansial dibuka di pasar saat perdagangan dimulai. High yaitu harga tertinggi di mana saham diperdagangkan selama suatu periode. Low yaitu harga minimum saham dalam suatu periode. Close yaitu harga penutupan umumnya mengacu pada harga terakhir di mana saham diperdagangkan selama sesi perdagangan reguler. Adj close yaitu harga penutupan yang disesuaikan mengubah harga penutupan saham untuk mencerminkan nilai saham tersebut setelah diperhitungkan. Volume yaitu mengukur jumlah saham yang diperdagangkan dalam saham atau kontrak yang diperdagangkan di masa depan atau opsi."
      ],
      "metadata": {
        "id": "YFENRDguZ2zy"
      }
    },
    {
      "cell_type": "code",
      "source": [
        "train_data = pd.read_csv('WMT.csv')\n",
        "train_data.head()"
      ],
      "metadata": {
        "colab": {
          "base_uri": "https://localhost:8080/",
          "height": 206
        },
        "id": "z4ytHhkuz0hQ",
        "outputId": "6efd208c-070f-44d8-aa4e-615dcd2f5189"
      },
      "execution_count": 24,
      "outputs": [
        {
          "output_type": "execute_result",
          "data": {
            "text/plain": [
              "         Date       Open       High        Low      Close  Adj Close    Volume\n",
              "0  2011-11-16  57.099998  57.419998  56.639999  56.680000  44.899456  11780800\n",
              "1  2011-11-17  56.540001  57.189999  56.259998  56.730000  44.939064  10223800\n",
              "2  2011-11-18  57.029999  57.360001  56.610001  57.230000  45.335129   8982300\n",
              "3  2011-11-21  56.930000  57.290001  56.380001  56.660000  44.883606   9932200\n",
              "4  2011-11-22  56.560001  57.130001  56.500000  56.849998  45.034107   7497300"
            ],
            "text/html": [
              "\n",
              "  <div id=\"df-a74397a7-0129-41c7-8b46-1a5c4ae98b13\">\n",
              "    <div class=\"colab-df-container\">\n",
              "      <div>\n",
              "<style scoped>\n",
              "    .dataframe tbody tr th:only-of-type {\n",
              "        vertical-align: middle;\n",
              "    }\n",
              "\n",
              "    .dataframe tbody tr th {\n",
              "        vertical-align: top;\n",
              "    }\n",
              "\n",
              "    .dataframe thead th {\n",
              "        text-align: right;\n",
              "    }\n",
              "</style>\n",
              "<table border=\"1\" class=\"dataframe\">\n",
              "  <thead>\n",
              "    <tr style=\"text-align: right;\">\n",
              "      <th></th>\n",
              "      <th>Date</th>\n",
              "      <th>Open</th>\n",
              "      <th>High</th>\n",
              "      <th>Low</th>\n",
              "      <th>Close</th>\n",
              "      <th>Adj Close</th>\n",
              "      <th>Volume</th>\n",
              "    </tr>\n",
              "  </thead>\n",
              "  <tbody>\n",
              "    <tr>\n",
              "      <th>0</th>\n",
              "      <td>2011-11-16</td>\n",
              "      <td>57.099998</td>\n",
              "      <td>57.419998</td>\n",
              "      <td>56.639999</td>\n",
              "      <td>56.680000</td>\n",
              "      <td>44.899456</td>\n",
              "      <td>11780800</td>\n",
              "    </tr>\n",
              "    <tr>\n",
              "      <th>1</th>\n",
              "      <td>2011-11-17</td>\n",
              "      <td>56.540001</td>\n",
              "      <td>57.189999</td>\n",
              "      <td>56.259998</td>\n",
              "      <td>56.730000</td>\n",
              "      <td>44.939064</td>\n",
              "      <td>10223800</td>\n",
              "    </tr>\n",
              "    <tr>\n",
              "      <th>2</th>\n",
              "      <td>2011-11-18</td>\n",
              "      <td>57.029999</td>\n",
              "      <td>57.360001</td>\n",
              "      <td>56.610001</td>\n",
              "      <td>57.230000</td>\n",
              "      <td>45.335129</td>\n",
              "      <td>8982300</td>\n",
              "    </tr>\n",
              "    <tr>\n",
              "      <th>3</th>\n",
              "      <td>2011-11-21</td>\n",
              "      <td>56.930000</td>\n",
              "      <td>57.290001</td>\n",
              "      <td>56.380001</td>\n",
              "      <td>56.660000</td>\n",
              "      <td>44.883606</td>\n",
              "      <td>9932200</td>\n",
              "    </tr>\n",
              "    <tr>\n",
              "      <th>4</th>\n",
              "      <td>2011-11-22</td>\n",
              "      <td>56.560001</td>\n",
              "      <td>57.130001</td>\n",
              "      <td>56.500000</td>\n",
              "      <td>56.849998</td>\n",
              "      <td>45.034107</td>\n",
              "      <td>7497300</td>\n",
              "    </tr>\n",
              "  </tbody>\n",
              "</table>\n",
              "</div>\n",
              "      <button class=\"colab-df-convert\" onclick=\"convertToInteractive('df-a74397a7-0129-41c7-8b46-1a5c4ae98b13')\"\n",
              "              title=\"Convert this dataframe to an interactive table.\"\n",
              "              style=\"display:none;\">\n",
              "        \n",
              "  <svg xmlns=\"http://www.w3.org/2000/svg\" height=\"24px\"viewBox=\"0 0 24 24\"\n",
              "       width=\"24px\">\n",
              "    <path d=\"M0 0h24v24H0V0z\" fill=\"none\"/>\n",
              "    <path d=\"M18.56 5.44l.94 2.06.94-2.06 2.06-.94-2.06-.94-.94-2.06-.94 2.06-2.06.94zm-11 1L8.5 8.5l.94-2.06 2.06-.94-2.06-.94L8.5 2.5l-.94 2.06-2.06.94zm10 10l.94 2.06.94-2.06 2.06-.94-2.06-.94-.94-2.06-.94 2.06-2.06.94z\"/><path d=\"M17.41 7.96l-1.37-1.37c-.4-.4-.92-.59-1.43-.59-.52 0-1.04.2-1.43.59L10.3 9.45l-7.72 7.72c-.78.78-.78 2.05 0 2.83L4 21.41c.39.39.9.59 1.41.59.51 0 1.02-.2 1.41-.59l7.78-7.78 2.81-2.81c.8-.78.8-2.07 0-2.86zM5.41 20L4 18.59l7.72-7.72 1.47 1.35L5.41 20z\"/>\n",
              "  </svg>\n",
              "      </button>\n",
              "      \n",
              "  <style>\n",
              "    .colab-df-container {\n",
              "      display:flex;\n",
              "      flex-wrap:wrap;\n",
              "      gap: 12px;\n",
              "    }\n",
              "\n",
              "    .colab-df-convert {\n",
              "      background-color: #E8F0FE;\n",
              "      border: none;\n",
              "      border-radius: 50%;\n",
              "      cursor: pointer;\n",
              "      display: none;\n",
              "      fill: #1967D2;\n",
              "      height: 32px;\n",
              "      padding: 0 0 0 0;\n",
              "      width: 32px;\n",
              "    }\n",
              "\n",
              "    .colab-df-convert:hover {\n",
              "      background-color: #E2EBFA;\n",
              "      box-shadow: 0px 1px 2px rgba(60, 64, 67, 0.3), 0px 1px 3px 1px rgba(60, 64, 67, 0.15);\n",
              "      fill: #174EA6;\n",
              "    }\n",
              "\n",
              "    [theme=dark] .colab-df-convert {\n",
              "      background-color: #3B4455;\n",
              "      fill: #D2E3FC;\n",
              "    }\n",
              "\n",
              "    [theme=dark] .colab-df-convert:hover {\n",
              "      background-color: #434B5C;\n",
              "      box-shadow: 0px 1px 3px 1px rgba(0, 0, 0, 0.15);\n",
              "      filter: drop-shadow(0px 1px 2px rgba(0, 0, 0, 0.3));\n",
              "      fill: #FFFFFF;\n",
              "    }\n",
              "  </style>\n",
              "\n",
              "      <script>\n",
              "        const buttonEl =\n",
              "          document.querySelector('#df-a74397a7-0129-41c7-8b46-1a5c4ae98b13 button.colab-df-convert');\n",
              "        buttonEl.style.display =\n",
              "          google.colab.kernel.accessAllowed ? 'block' : 'none';\n",
              "\n",
              "        async function convertToInteractive(key) {\n",
              "          const element = document.querySelector('#df-a74397a7-0129-41c7-8b46-1a5c4ae98b13');\n",
              "          const dataTable =\n",
              "            await google.colab.kernel.invokeFunction('convertToInteractive',\n",
              "                                                     [key], {});\n",
              "          if (!dataTable) return;\n",
              "\n",
              "          const docLinkHtml = 'Like what you see? Visit the ' +\n",
              "            '<a target=\"_blank\" href=https://colab.research.google.com/notebooks/data_table.ipynb>data table notebook</a>'\n",
              "            + ' to learn more about interactive tables.';\n",
              "          element.innerHTML = '';\n",
              "          dataTable['output_type'] = 'display_data';\n",
              "          await google.colab.output.renderOutput(dataTable, element);\n",
              "          const docLink = document.createElement('div');\n",
              "          docLink.innerHTML = docLinkHtml;\n",
              "          element.appendChild(docLink);\n",
              "        }\n",
              "      </script>\n",
              "    </div>\n",
              "  </div>\n",
              "  "
            ]
          },
          "metadata": {},
          "execution_count": 24
        }
      ]
    },
    {
      "cell_type": "markdown",
      "source": [
        "Check missing values"
      ],
      "metadata": {
        "id": "YJuRYmM00AJv"
      }
    },
    {
      "cell_type": "markdown",
      "source": [
        "Setelah di cek, tidak ada missing value dalam data karena semua panjang datanya sama"
      ],
      "metadata": {
        "id": "n1mTOamWbeVs"
      }
    },
    {
      "cell_type": "code",
      "source": [
        "train_data.info()"
      ],
      "metadata": {
        "colab": {
          "base_uri": "https://localhost:8080/"
        },
        "id": "xvG658HJ0CJk",
        "outputId": "52c0f82f-9417-4a83-d9ae-604cecb455c7"
      },
      "execution_count": 25,
      "outputs": [
        {
          "output_type": "stream",
          "name": "stdout",
          "text": [
            "<class 'pandas.core.frame.DataFrame'>\n",
            "RangeIndex: 2516 entries, 0 to 2515\n",
            "Data columns (total 7 columns):\n",
            " #   Column     Non-Null Count  Dtype  \n",
            "---  ------     --------------  -----  \n",
            " 0   Date       2516 non-null   object \n",
            " 1   Open       2516 non-null   float64\n",
            " 2   High       2516 non-null   float64\n",
            " 3   Low        2516 non-null   float64\n",
            " 4   Close      2516 non-null   float64\n",
            " 5   Adj Close  2516 non-null   float64\n",
            " 6   Volume     2516 non-null   int64  \n",
            "dtypes: float64(5), int64(1), object(1)\n",
            "memory usage: 137.7+ KB\n"
          ]
        }
      ]
    },
    {
      "cell_type": "markdown",
      "source": [
        "Check statistic vales for every features"
      ],
      "metadata": {
        "id": "Jmz1TgoV0IFn"
      }
    },
    {
      "cell_type": "markdown",
      "source": [
        "Kemudian mengecek mean, median, dan nilai maximumnya"
      ],
      "metadata": {
        "id": "l-qtQYWsb4yK"
      }
    },
    {
      "cell_type": "code",
      "source": [
        "train_data.describe()"
      ],
      "metadata": {
        "colab": {
          "base_uri": "https://localhost:8080/",
          "height": 300
        },
        "id": "uOvHbZV90Fee",
        "outputId": "7aefd228-ae5d-4903-d564-9705c35f63ad"
      },
      "execution_count": 26,
      "outputs": [
        {
          "output_type": "execute_result",
          "data": {
            "text/plain": [
              "              Open         High          Low        Close    Adj Close  \\\n",
              "count  2516.000000  2516.000000  2516.000000  2516.000000  2516.000000   \n",
              "mean     90.252091    90.943776    89.619245    90.281677    82.778431   \n",
              "std      25.818933    26.070703    25.565153    25.798838    29.207787   \n",
              "min      56.389999    57.000000    56.259998    56.419998    44.867764   \n",
              "25%      72.215000    72.599998    71.779999    72.220003    62.146697   \n",
              "50%      78.580002    79.000000    78.055001    78.620003    68.370143   \n",
              "75%     104.664999   105.502499   103.652502   104.637497    98.859221   \n",
              "max     153.600006   153.660004   151.660004   152.789993   151.449997   \n",
              "\n",
              "             Volume  \n",
              "count  2.516000e+03  \n",
              "mean   8.267159e+06  \n",
              "std    4.587082e+06  \n",
              "min    2.094900e+06  \n",
              "25%    5.782400e+06  \n",
              "50%    7.123900e+06  \n",
              "75%    9.400600e+06  \n",
              "max    8.089810e+07  "
            ],
            "text/html": [
              "\n",
              "  <div id=\"df-f8241558-75ce-4c2f-ab27-391ca1d66c3d\">\n",
              "    <div class=\"colab-df-container\">\n",
              "      <div>\n",
              "<style scoped>\n",
              "    .dataframe tbody tr th:only-of-type {\n",
              "        vertical-align: middle;\n",
              "    }\n",
              "\n",
              "    .dataframe tbody tr th {\n",
              "        vertical-align: top;\n",
              "    }\n",
              "\n",
              "    .dataframe thead th {\n",
              "        text-align: right;\n",
              "    }\n",
              "</style>\n",
              "<table border=\"1\" class=\"dataframe\">\n",
              "  <thead>\n",
              "    <tr style=\"text-align: right;\">\n",
              "      <th></th>\n",
              "      <th>Open</th>\n",
              "      <th>High</th>\n",
              "      <th>Low</th>\n",
              "      <th>Close</th>\n",
              "      <th>Adj Close</th>\n",
              "      <th>Volume</th>\n",
              "    </tr>\n",
              "  </thead>\n",
              "  <tbody>\n",
              "    <tr>\n",
              "      <th>count</th>\n",
              "      <td>2516.000000</td>\n",
              "      <td>2516.000000</td>\n",
              "      <td>2516.000000</td>\n",
              "      <td>2516.000000</td>\n",
              "      <td>2516.000000</td>\n",
              "      <td>2.516000e+03</td>\n",
              "    </tr>\n",
              "    <tr>\n",
              "      <th>mean</th>\n",
              "      <td>90.252091</td>\n",
              "      <td>90.943776</td>\n",
              "      <td>89.619245</td>\n",
              "      <td>90.281677</td>\n",
              "      <td>82.778431</td>\n",
              "      <td>8.267159e+06</td>\n",
              "    </tr>\n",
              "    <tr>\n",
              "      <th>std</th>\n",
              "      <td>25.818933</td>\n",
              "      <td>26.070703</td>\n",
              "      <td>25.565153</td>\n",
              "      <td>25.798838</td>\n",
              "      <td>29.207787</td>\n",
              "      <td>4.587082e+06</td>\n",
              "    </tr>\n",
              "    <tr>\n",
              "      <th>min</th>\n",
              "      <td>56.389999</td>\n",
              "      <td>57.000000</td>\n",
              "      <td>56.259998</td>\n",
              "      <td>56.419998</td>\n",
              "      <td>44.867764</td>\n",
              "      <td>2.094900e+06</td>\n",
              "    </tr>\n",
              "    <tr>\n",
              "      <th>25%</th>\n",
              "      <td>72.215000</td>\n",
              "      <td>72.599998</td>\n",
              "      <td>71.779999</td>\n",
              "      <td>72.220003</td>\n",
              "      <td>62.146697</td>\n",
              "      <td>5.782400e+06</td>\n",
              "    </tr>\n",
              "    <tr>\n",
              "      <th>50%</th>\n",
              "      <td>78.580002</td>\n",
              "      <td>79.000000</td>\n",
              "      <td>78.055001</td>\n",
              "      <td>78.620003</td>\n",
              "      <td>68.370143</td>\n",
              "      <td>7.123900e+06</td>\n",
              "    </tr>\n",
              "    <tr>\n",
              "      <th>75%</th>\n",
              "      <td>104.664999</td>\n",
              "      <td>105.502499</td>\n",
              "      <td>103.652502</td>\n",
              "      <td>104.637497</td>\n",
              "      <td>98.859221</td>\n",
              "      <td>9.400600e+06</td>\n",
              "    </tr>\n",
              "    <tr>\n",
              "      <th>max</th>\n",
              "      <td>153.600006</td>\n",
              "      <td>153.660004</td>\n",
              "      <td>151.660004</td>\n",
              "      <td>152.789993</td>\n",
              "      <td>151.449997</td>\n",
              "      <td>8.089810e+07</td>\n",
              "    </tr>\n",
              "  </tbody>\n",
              "</table>\n",
              "</div>\n",
              "      <button class=\"colab-df-convert\" onclick=\"convertToInteractive('df-f8241558-75ce-4c2f-ab27-391ca1d66c3d')\"\n",
              "              title=\"Convert this dataframe to an interactive table.\"\n",
              "              style=\"display:none;\">\n",
              "        \n",
              "  <svg xmlns=\"http://www.w3.org/2000/svg\" height=\"24px\"viewBox=\"0 0 24 24\"\n",
              "       width=\"24px\">\n",
              "    <path d=\"M0 0h24v24H0V0z\" fill=\"none\"/>\n",
              "    <path d=\"M18.56 5.44l.94 2.06.94-2.06 2.06-.94-2.06-.94-.94-2.06-.94 2.06-2.06.94zm-11 1L8.5 8.5l.94-2.06 2.06-.94-2.06-.94L8.5 2.5l-.94 2.06-2.06.94zm10 10l.94 2.06.94-2.06 2.06-.94-2.06-.94-.94-2.06-.94 2.06-2.06.94z\"/><path d=\"M17.41 7.96l-1.37-1.37c-.4-.4-.92-.59-1.43-.59-.52 0-1.04.2-1.43.59L10.3 9.45l-7.72 7.72c-.78.78-.78 2.05 0 2.83L4 21.41c.39.39.9.59 1.41.59.51 0 1.02-.2 1.41-.59l7.78-7.78 2.81-2.81c.8-.78.8-2.07 0-2.86zM5.41 20L4 18.59l7.72-7.72 1.47 1.35L5.41 20z\"/>\n",
              "  </svg>\n",
              "      </button>\n",
              "      \n",
              "  <style>\n",
              "    .colab-df-container {\n",
              "      display:flex;\n",
              "      flex-wrap:wrap;\n",
              "      gap: 12px;\n",
              "    }\n",
              "\n",
              "    .colab-df-convert {\n",
              "      background-color: #E8F0FE;\n",
              "      border: none;\n",
              "      border-radius: 50%;\n",
              "      cursor: pointer;\n",
              "      display: none;\n",
              "      fill: #1967D2;\n",
              "      height: 32px;\n",
              "      padding: 0 0 0 0;\n",
              "      width: 32px;\n",
              "    }\n",
              "\n",
              "    .colab-df-convert:hover {\n",
              "      background-color: #E2EBFA;\n",
              "      box-shadow: 0px 1px 2px rgba(60, 64, 67, 0.3), 0px 1px 3px 1px rgba(60, 64, 67, 0.15);\n",
              "      fill: #174EA6;\n",
              "    }\n",
              "\n",
              "    [theme=dark] .colab-df-convert {\n",
              "      background-color: #3B4455;\n",
              "      fill: #D2E3FC;\n",
              "    }\n",
              "\n",
              "    [theme=dark] .colab-df-convert:hover {\n",
              "      background-color: #434B5C;\n",
              "      box-shadow: 0px 1px 3px 1px rgba(0, 0, 0, 0.15);\n",
              "      filter: drop-shadow(0px 1px 2px rgba(0, 0, 0, 0.3));\n",
              "      fill: #FFFFFF;\n",
              "    }\n",
              "  </style>\n",
              "\n",
              "      <script>\n",
              "        const buttonEl =\n",
              "          document.querySelector('#df-f8241558-75ce-4c2f-ab27-391ca1d66c3d button.colab-df-convert');\n",
              "        buttonEl.style.display =\n",
              "          google.colab.kernel.accessAllowed ? 'block' : 'none';\n",
              "\n",
              "        async function convertToInteractive(key) {\n",
              "          const element = document.querySelector('#df-f8241558-75ce-4c2f-ab27-391ca1d66c3d');\n",
              "          const dataTable =\n",
              "            await google.colab.kernel.invokeFunction('convertToInteractive',\n",
              "                                                     [key], {});\n",
              "          if (!dataTable) return;\n",
              "\n",
              "          const docLinkHtml = 'Like what you see? Visit the ' +\n",
              "            '<a target=\"_blank\" href=https://colab.research.google.com/notebooks/data_table.ipynb>data table notebook</a>'\n",
              "            + ' to learn more about interactive tables.';\n",
              "          element.innerHTML = '';\n",
              "          dataTable['output_type'] = 'display_data';\n",
              "          await google.colab.output.renderOutput(dataTable, element);\n",
              "          const docLink = document.createElement('div');\n",
              "          docLink.innerHTML = docLinkHtml;\n",
              "          element.appendChild(docLink);\n",
              "        }\n",
              "      </script>\n",
              "    </div>\n",
              "  </div>\n",
              "  "
            ]
          },
          "metadata": {},
          "execution_count": 26
        }
      ]
    },
    {
      "cell_type": "markdown",
      "source": [
        "Handle datetime data for time series"
      ],
      "metadata": {
        "id": "ckKHDQv80S2S"
      }
    },
    {
      "cell_type": "markdown",
      "source": [
        "Membaca fitur Date kedalam datetime agar nanti dalam satu format datetime dan menjadikan date sebagai index"
      ],
      "metadata": {
        "id": "sLWxqF1VcVsi"
      }
    },
    {
      "cell_type": "code",
      "source": [
        "train_data['Date'] = pd.to_datetime(train_data['Date'])\n",
        "train_data.set_index('Date', inplace=True)\n",
        "train_data.head()"
      ],
      "metadata": {
        "colab": {
          "base_uri": "https://localhost:8080/",
          "height": 237
        },
        "id": "V7gBtJvZ0SUZ",
        "outputId": "2df4b78c-f208-4a21-ed7c-b7d281d514d7"
      },
      "execution_count": 27,
      "outputs": [
        {
          "output_type": "execute_result",
          "data": {
            "text/plain": [
              "                 Open       High        Low      Close  Adj Close    Volume\n",
              "Date                                                                       \n",
              "2011-11-16  57.099998  57.419998  56.639999  56.680000  44.899456  11780800\n",
              "2011-11-17  56.540001  57.189999  56.259998  56.730000  44.939064  10223800\n",
              "2011-11-18  57.029999  57.360001  56.610001  57.230000  45.335129   8982300\n",
              "2011-11-21  56.930000  57.290001  56.380001  56.660000  44.883606   9932200\n",
              "2011-11-22  56.560001  57.130001  56.500000  56.849998  45.034107   7497300"
            ],
            "text/html": [
              "\n",
              "  <div id=\"df-04cb2074-b9db-407f-a10a-cc20234abdb2\">\n",
              "    <div class=\"colab-df-container\">\n",
              "      <div>\n",
              "<style scoped>\n",
              "    .dataframe tbody tr th:only-of-type {\n",
              "        vertical-align: middle;\n",
              "    }\n",
              "\n",
              "    .dataframe tbody tr th {\n",
              "        vertical-align: top;\n",
              "    }\n",
              "\n",
              "    .dataframe thead th {\n",
              "        text-align: right;\n",
              "    }\n",
              "</style>\n",
              "<table border=\"1\" class=\"dataframe\">\n",
              "  <thead>\n",
              "    <tr style=\"text-align: right;\">\n",
              "      <th></th>\n",
              "      <th>Open</th>\n",
              "      <th>High</th>\n",
              "      <th>Low</th>\n",
              "      <th>Close</th>\n",
              "      <th>Adj Close</th>\n",
              "      <th>Volume</th>\n",
              "    </tr>\n",
              "    <tr>\n",
              "      <th>Date</th>\n",
              "      <th></th>\n",
              "      <th></th>\n",
              "      <th></th>\n",
              "      <th></th>\n",
              "      <th></th>\n",
              "      <th></th>\n",
              "    </tr>\n",
              "  </thead>\n",
              "  <tbody>\n",
              "    <tr>\n",
              "      <th>2011-11-16</th>\n",
              "      <td>57.099998</td>\n",
              "      <td>57.419998</td>\n",
              "      <td>56.639999</td>\n",
              "      <td>56.680000</td>\n",
              "      <td>44.899456</td>\n",
              "      <td>11780800</td>\n",
              "    </tr>\n",
              "    <tr>\n",
              "      <th>2011-11-17</th>\n",
              "      <td>56.540001</td>\n",
              "      <td>57.189999</td>\n",
              "      <td>56.259998</td>\n",
              "      <td>56.730000</td>\n",
              "      <td>44.939064</td>\n",
              "      <td>10223800</td>\n",
              "    </tr>\n",
              "    <tr>\n",
              "      <th>2011-11-18</th>\n",
              "      <td>57.029999</td>\n",
              "      <td>57.360001</td>\n",
              "      <td>56.610001</td>\n",
              "      <td>57.230000</td>\n",
              "      <td>45.335129</td>\n",
              "      <td>8982300</td>\n",
              "    </tr>\n",
              "    <tr>\n",
              "      <th>2011-11-21</th>\n",
              "      <td>56.930000</td>\n",
              "      <td>57.290001</td>\n",
              "      <td>56.380001</td>\n",
              "      <td>56.660000</td>\n",
              "      <td>44.883606</td>\n",
              "      <td>9932200</td>\n",
              "    </tr>\n",
              "    <tr>\n",
              "      <th>2011-11-22</th>\n",
              "      <td>56.560001</td>\n",
              "      <td>57.130001</td>\n",
              "      <td>56.500000</td>\n",
              "      <td>56.849998</td>\n",
              "      <td>45.034107</td>\n",
              "      <td>7497300</td>\n",
              "    </tr>\n",
              "  </tbody>\n",
              "</table>\n",
              "</div>\n",
              "      <button class=\"colab-df-convert\" onclick=\"convertToInteractive('df-04cb2074-b9db-407f-a10a-cc20234abdb2')\"\n",
              "              title=\"Convert this dataframe to an interactive table.\"\n",
              "              style=\"display:none;\">\n",
              "        \n",
              "  <svg xmlns=\"http://www.w3.org/2000/svg\" height=\"24px\"viewBox=\"0 0 24 24\"\n",
              "       width=\"24px\">\n",
              "    <path d=\"M0 0h24v24H0V0z\" fill=\"none\"/>\n",
              "    <path d=\"M18.56 5.44l.94 2.06.94-2.06 2.06-.94-2.06-.94-.94-2.06-.94 2.06-2.06.94zm-11 1L8.5 8.5l.94-2.06 2.06-.94-2.06-.94L8.5 2.5l-.94 2.06-2.06.94zm10 10l.94 2.06.94-2.06 2.06-.94-2.06-.94-.94-2.06-.94 2.06-2.06.94z\"/><path d=\"M17.41 7.96l-1.37-1.37c-.4-.4-.92-.59-1.43-.59-.52 0-1.04.2-1.43.59L10.3 9.45l-7.72 7.72c-.78.78-.78 2.05 0 2.83L4 21.41c.39.39.9.59 1.41.59.51 0 1.02-.2 1.41-.59l7.78-7.78 2.81-2.81c.8-.78.8-2.07 0-2.86zM5.41 20L4 18.59l7.72-7.72 1.47 1.35L5.41 20z\"/>\n",
              "  </svg>\n",
              "      </button>\n",
              "      \n",
              "  <style>\n",
              "    .colab-df-container {\n",
              "      display:flex;\n",
              "      flex-wrap:wrap;\n",
              "      gap: 12px;\n",
              "    }\n",
              "\n",
              "    .colab-df-convert {\n",
              "      background-color: #E8F0FE;\n",
              "      border: none;\n",
              "      border-radius: 50%;\n",
              "      cursor: pointer;\n",
              "      display: none;\n",
              "      fill: #1967D2;\n",
              "      height: 32px;\n",
              "      padding: 0 0 0 0;\n",
              "      width: 32px;\n",
              "    }\n",
              "\n",
              "    .colab-df-convert:hover {\n",
              "      background-color: #E2EBFA;\n",
              "      box-shadow: 0px 1px 2px rgba(60, 64, 67, 0.3), 0px 1px 3px 1px rgba(60, 64, 67, 0.15);\n",
              "      fill: #174EA6;\n",
              "    }\n",
              "\n",
              "    [theme=dark] .colab-df-convert {\n",
              "      background-color: #3B4455;\n",
              "      fill: #D2E3FC;\n",
              "    }\n",
              "\n",
              "    [theme=dark] .colab-df-convert:hover {\n",
              "      background-color: #434B5C;\n",
              "      box-shadow: 0px 1px 3px 1px rgba(0, 0, 0, 0.15);\n",
              "      filter: drop-shadow(0px 1px 2px rgba(0, 0, 0, 0.3));\n",
              "      fill: #FFFFFF;\n",
              "    }\n",
              "  </style>\n",
              "\n",
              "      <script>\n",
              "        const buttonEl =\n",
              "          document.querySelector('#df-04cb2074-b9db-407f-a10a-cc20234abdb2 button.colab-df-convert');\n",
              "        buttonEl.style.display =\n",
              "          google.colab.kernel.accessAllowed ? 'block' : 'none';\n",
              "\n",
              "        async function convertToInteractive(key) {\n",
              "          const element = document.querySelector('#df-04cb2074-b9db-407f-a10a-cc20234abdb2');\n",
              "          const dataTable =\n",
              "            await google.colab.kernel.invokeFunction('convertToInteractive',\n",
              "                                                     [key], {});\n",
              "          if (!dataTable) return;\n",
              "\n",
              "          const docLinkHtml = 'Like what you see? Visit the ' +\n",
              "            '<a target=\"_blank\" href=https://colab.research.google.com/notebooks/data_table.ipynb>data table notebook</a>'\n",
              "            + ' to learn more about interactive tables.';\n",
              "          element.innerHTML = '';\n",
              "          dataTable['output_type'] = 'display_data';\n",
              "          await google.colab.output.renderOutput(dataTable, element);\n",
              "          const docLink = document.createElement('div');\n",
              "          docLink.innerHTML = docLinkHtml;\n",
              "          element.appendChild(docLink);\n",
              "        }\n",
              "      </script>\n",
              "    </div>\n",
              "  </div>\n",
              "  "
            ]
          },
          "metadata": {},
          "execution_count": 27
        }
      ]
    },
    {
      "cell_type": "markdown",
      "source": [
        "**EXPLORATORY DATA ANALYSIS**"
      ],
      "metadata": {
        "id": "jws0KgX027j6"
      }
    },
    {
      "cell_type": "markdown",
      "source": [
        "Now let’s visualise the Adjusted Close (Stock Price when market closed)"
      ],
      "metadata": {
        "id": "DU0XyTTV3Mpu"
      }
    },
    {
      "cell_type": "markdown",
      "source": [
        "Mengecek datanya seperti apa ketika pasarnya ditutup. Dimulai dari tahun 2012 sampai 2022 harga saham di Walmart Inc mengalami kenaikan"
      ],
      "metadata": {
        "id": "WnnhTql_dCLO"
      }
    },
    {
      "cell_type": "code",
      "source": [
        "plt.figure(figsize=(11, 8)) # resizing the plot\n",
        "train_data['Adj Close'].plot()\n",
        "plt.title('Closing Price History') # adding a title\n",
        "plt.xlabel('Date') # x label\n",
        "plt.ylabel('Closing Price') # y label\n",
        "plt.show()"
      ],
      "metadata": {
        "colab": {
          "base_uri": "https://localhost:8080/",
          "height": 662
        },
        "id": "OJ8xCxoDp5EG",
        "outputId": "00104300-9b59-4173-c268-901763143601"
      },
      "execution_count": 28,
      "outputs": [
        {
          "output_type": "display_data",
          "data": {
            "text/plain": [
              "<Figure size 1100x800 with 1 Axes>"
            ],
            "image/png": "[encoded data removed]"
          },
          "metadata": {}
        }
      ]
    },
    {
      "cell_type": "markdown",
      "source": [
        "Mengecek fitur lainnya. Untuk open,close, high, dan low trend nya naik. Sedangkan volume nya naik turun."
      ],
      "metadata": {
        "id": "ETvgMhX4dwsL"
      }
    },
    {
      "cell_type": "code",
      "source": [
        "plt.figure(figsize=(16, 8)) # resizing the plot\n",
        "cols = ['Open', 'Close', 'Volume', 'High', 'Low']\n",
        "axes = train_data[cols].plot(figsize=(11, 9), subplots = True)\n",
        "plt.show()"
      ],
      "metadata": {
        "id": "Dpu_Goeaqgb5",
        "colab": {
          "base_uri": "https://localhost:8080/",
          "height": 725
        },
        "outputId": "fa6f9eaa-d7f2-4bcb-8282-78570a82e8ac"
      },
      "execution_count": 29,
      "outputs": [
        {
          "output_type": "display_data",
          "data": {
            "text/plain": [
              "<Figure size 1600x800 with 0 Axes>"
            ]
          },
          "metadata": {}
        },
        {
          "output_type": "display_data",
          "data": {
            "text/plain": [
              "<Figure size 1100x900 with 5 Axes>"
            ],
            "image/png": "[encoded data removed]"
          },
          "metadata": {}
        }
      ]
    },
    {
      "cell_type": "markdown",
      "source": [
        "Membaca harga tertinggi dan terendah. Kemudian harga penutupan dan harga pembukaannya."
      ],
      "metadata": {
        "id": "IL9wfVVdeRzt"
      }
    },
    {
      "cell_type": "code",
      "source": [
        "train_data['HL_PCT'] = (train_data['High'] - train_data['Low']) / train_data['Low'] * 100.0\n",
        "train_data['PCT_change'] = (train_data['Close'] - train_data['Open']) / train_data['Open'] * 100.0"
      ],
      "metadata": {
        "id": "AfhNMGBi-qaC"
      },
      "execution_count": 30,
      "outputs": []
    },
    {
      "cell_type": "markdown",
      "source": [
        "Membuat fitur baru untuk masuk ke dalam datasetnya"
      ],
      "metadata": {
        "id": "R26TZSyFeopk"
      }
    },
    {
      "cell_type": "code",
      "source": [
        "df = train_data[['HL_PCT', 'PCT_change', 'Adj Close','Volume']]"
      ],
      "metadata": {
        "id": "Tpr_qGGBpW_O"
      },
      "execution_count": 31,
      "outputs": []
    },
    {
      "cell_type": "markdown",
      "source": [
        "Kemudian membuat harga penutupan saham sebagai labelnya yang dugunakan untuk prediksi"
      ],
      "metadata": {
        "id": "dm5a1ibee_ml"
      }
    },
    {
      "cell_type": "code",
      "source": [
        "forecast_out = int(math.ceil(0.05 * len(df))) # forcasting out 5% of the entire dataset\n",
        "print(forecast_out)\n",
        "df['label'] = df['Adj Close'].shift(-forecast_out)"
      ],
      "metadata": {
        "colab": {
          "base_uri": "https://localhost:8080/"
        },
        "id": "byohkejgqUxI",
        "outputId": "0e3944f0-1edc-4d0f-af5a-ed5e78a77b54"
      },
      "execution_count": 32,
      "outputs": [
        {
          "output_type": "stream",
          "name": "stdout",
          "text": [
            "126\n"
          ]
        },
        {
          "output_type": "stream",
          "name": "stderr",
          "text": [
            "<ipython-input-32-8a15e8de9d0b>:3: SettingWithCopyWarning: \n",
            "A value is trying to be set on a copy of a slice from a DataFrame.\n",
            "Try using .loc[row_indexer,col_indexer] = value instead\n",
            "\n",
            "See the caveats in the documentation: https://pandas.pydata.org/pandas-docs/stable/user_guide/indexing.html#returning-a-view-versus-a-copy\n",
            "  df['label'] = df['Adj Close'].shift(-forecast_out)\n"
          ]
        }
      ]
    },
    {
      "cell_type": "code",
      "source": [
        "from sklearn.preprocessing import StandardScaler\n",
        "from sklearn.linear_model import LinearRegression, Ridge\n",
        "from sklearn.ensemble import RandomForestRegressor\n",
        "from sklearn.svm import SVR\n",
        "from sklearn.model_selection import train_test_split\n",
        "from sklearn.metrics import mean_squared_log_error"
      ],
      "metadata": {
        "id": "irMFwvfUQfkX"
      },
      "execution_count": 33,
      "outputs": []
    },
    {
      "cell_type": "markdown",
      "source": [
        "It’s clear from the plot that there is an overall increase in the trend,with some seasonality in it."
      ],
      "metadata": {
        "id": "CEWA8nGgDCfG"
      }
    },
    {
      "cell_type": "markdown",
      "source": [
        "Menormalisasikan data supaya range harganya tidak terlalu jauh rangenya dan trend nya tidak terlalu lama"
      ],
      "metadata": {
        "id": "SXHoxzi-fSFT"
      }
    },
    {
      "cell_type": "code",
      "source": [
        "scaler = StandardScaler()\n",
        "X = np.array(df.drop(['label'], 1))\n",
        "scaler.fit(X)\n",
        "X = scaler.transform(X)"
      ],
      "metadata": {
        "id": "mpgmCvavV8oD",
        "colab": {
          "base_uri": "https://localhost:8080/"
        },
        "outputId": "db4c04b3-de42-412f-dada-6d735f5ea366"
      },
      "execution_count": 34,
      "outputs": [
        {
          "output_type": "stream",
          "name": "stderr",
          "text": [
            "<ipython-input-34-7ce179678b12>:2: FutureWarning: In a future version of pandas all arguments of DataFrame.drop except for the argument 'labels' will be keyword-only.\n",
            "  X = np.array(df.drop(['label'], 1))\n"
          ]
        }
      ]
    },
    {
      "cell_type": "markdown",
      "source": [
        "Slicing data"
      ],
      "metadata": {
        "id": "QjGFN-4hfiow"
      }
    },
    {
      "cell_type": "code",
      "source": [
        "X_Predictions = X[-forecast_out:] # data to be predicted\n",
        "X = X[:-forecast_out] # data to be trained"
      ],
      "metadata": {
        "id": "ClQ0ncGKDYqg"
      },
      "execution_count": 35,
      "outputs": []
    },
    {
      "cell_type": "code",
      "source": [
        "df.dropna(inplace=True)\n",
        "y = np.array(df['label'])"
      ],
      "metadata": {
        "colab": {
          "base_uri": "https://localhost:8080/"
        },
        "id": "wG1mOmKuV_Te",
        "outputId": "12b69516-8a41-4843-abc1-4961478a1c3e"
      },
      "execution_count": 36,
      "outputs": [
        {
          "output_type": "stream",
          "name": "stderr",
          "text": [
            "<ipython-input-36-c3da9adb30d1>:1: SettingWithCopyWarning: \n",
            "A value is trying to be set on a copy of a slice from a DataFrame\n",
            "\n",
            "See the caveats in the documentation: https://pandas.pydata.org/pandas-docs/stable/user_guide/indexing.html#returning-a-view-versus-a-copy\n",
            "  df.dropna(inplace=True)\n"
          ]
        }
      ]
    },
    {
      "cell_type": "code",
      "source": [
        "X_train, X_test, y_train, y_test = train_test_split(X, y, test_size=0.2, random_state=42)"
      ],
      "metadata": {
        "id": "8D31iOX2EVAA"
      },
      "execution_count": 37,
      "outputs": []
    },
    {
      "cell_type": "markdown",
      "source": [
        "Melatih model regresi linear dan mengukur tingkat kepercayaan (confidence) model tersebut"
      ],
      "metadata": {
        "id": "xtyBtpDPgYN3"
      }
    },
    {
      "cell_type": "code",
      "source": [
        "lr = LinearRegression()\n",
        "lr.fit(X_train, y_train)\n",
        "lr_confidence = lr.score(X_test, y_test)"
      ],
      "metadata": {
        "id": "yQXA0ZBuFLKW"
      },
      "execution_count": 38,
      "outputs": []
    },
    {
      "cell_type": "code",
      "source": [
        "lr_confidence"
      ],
      "metadata": {
        "colab": {
          "base_uri": "https://localhost:8080/"
        },
        "id": "pK5vOlZ-jVld",
        "outputId": "f0497032-1ef4-40a8-9a3f-1231bccdc13c"
      },
      "execution_count": 39,
      "outputs": [
        {
          "output_type": "execute_result",
          "data": {
            "text/plain": [
              "0.888116232464246"
            ]
          },
          "metadata": {},
          "execution_count": 39
        }
      ]
    },
    {
      "cell_type": "markdown",
      "source": [
        "Melatih model Regressor Random Forest dan mengukur tingkat kepercayaan (confidence) model tersebut."
      ],
      "metadata": {
        "id": "JpZRpdTPgoM4"
      }
    },
    {
      "cell_type": "code",
      "source": [
        "rf = RandomForestRegressor()\n",
        "rf.fit(X_train, y_train)\n",
        "rf_confidence = rf.score(X_test, y_test)"
      ],
      "metadata": {
        "id": "VLP373_GFaKk"
      },
      "execution_count": 40,
      "outputs": []
    },
    {
      "cell_type": "code",
      "source": [
        "rf_confidence"
      ],
      "metadata": {
        "colab": {
          "base_uri": "https://localhost:8080/"
        },
        "id": "tjxiX_mrjXZi",
        "outputId": "056e1f90-98d5-4c11-82c5-5a144e3ef215"
      },
      "execution_count": 41,
      "outputs": [
        {
          "output_type": "execute_result",
          "data": {
            "text/plain": [
              "0.9362536474476828"
            ]
          },
          "metadata": {},
          "execution_count": 41
        }
      ]
    },
    {
      "cell_type": "markdown",
      "source": [
        "Menggambarkan langkah-langkah untuk melakukan prediksi data masa depan menggunakan model Regressor Random Forest dan menyimpan hasil prediksi ke dalam DataFrame dan menghasilkan waktu dalam detik untuk hari berikutnya."
      ],
      "metadata": {
        "id": "qxBjzeSUhFwb"
      }
    },
    {
      "cell_type": "code",
      "source": [
        "last_date = df.index[-1] #getting the lastdate in the dataset\n",
        "last_unix = last_date.timestamp() #converting it to time in seconds\n",
        "one_day = 86400 #one day equals 86400 seconds\n",
        "next_unix = last_unix + one_day # getting the time in seconds for the next day\n",
        "forecast_set = rf.predict(X_Predictions) # predicting forecast data\n",
        "df['Forecast'] = np.nan\n",
        "for i in forecast_set:\n",
        "    next_date = datetime.datetime.fromtimestamp(next_unix)\n",
        "    next_unix += 86400\n",
        "    df.loc[next_date] = [np.nan for _ in range(len(df.columns)-1)]+[i]"
      ],
      "metadata": {
        "colab": {
          "base_uri": "https://localhost:8080/"
        },
        "id": "3B4Ln3KaWKYP",
        "outputId": "088e23c1-61a0-46e8-fd54-432ad75cd887"
      },
      "execution_count": 42,
      "outputs": [
        {
          "output_type": "stream",
          "name": "stderr",
          "text": [
            "<ipython-input-42-3eb2aa88d409>:6: SettingWithCopyWarning: \n",
            "A value is trying to be set on a copy of a slice from a DataFrame.\n",
            "Try using .loc[row_indexer,col_indexer] = value instead\n",
            "\n",
            "See the caveats in the documentation: https://pandas.pydata.org/pandas-docs/stable/user_guide/indexing.html#returning-a-view-versus-a-copy\n",
            "  df['Forecast'] = np.nan\n",
            "<ipython-input-42-3eb2aa88d409>:10: SettingWithCopyWarning: \n",
            "A value is trying to be set on a copy of a slice from a DataFrame\n",
            "\n",
            "See the caveats in the documentation: https://pandas.pydata.org/pandas-docs/stable/user_guide/indexing.html#returning-a-view-versus-a-copy\n",
            "  df.loc[next_date] = [np.nan for _ in range(len(df.columns)-1)]+[i]\n",
            "<ipython-input-42-3eb2aa88d409>:10: SettingWithCopyWarning: \n",
            "A value is trying to be set on a copy of a slice from a DataFrame\n",
            "\n",
            "See the caveats in the documentation: https://pandas.pydata.org/pandas-docs/stable/user_guide/indexing.html#returning-a-view-versus-a-copy\n",
            "  df.loc[next_date] = [np.nan for _ in range(len(df.columns)-1)]+[i]\n",
            "<ipython-input-42-3eb2aa88d409>:10: SettingWithCopyWarning: \n",
            "A value is trying to be set on a copy of a slice from a DataFrame\n",
            "\n",
            "See the caveats in the documentation: https://pandas.pydata.org/pandas-docs/stable/user_guide/indexing.html#returning-a-view-versus-a-copy\n",
            "  df.loc[next_date] = [np.nan for _ in range(len(df.columns)-1)]+[i]\n",
            "<ipython-input-42-3eb2aa88d409>:10: SettingWithCopyWarning: \n",
            "A value is trying to be set on a copy of a slice from a DataFrame\n",
            "\n",
            "See the caveats in the documentation: https://pandas.pydata.org/pandas-docs/stable/user_guide/indexing.html#returning-a-view-versus-a-copy\n",
            "  df.loc[next_date] = [np.nan for _ in range(len(df.columns)-1)]+[i]\n",
            "<ipython-input-42-3eb2aa88d409>:10: SettingWithCopyWarning: \n",
            "A value is trying to be set on a copy of a slice from a DataFrame\n",
            "\n",
            "See the caveats in the documentation: https://pandas.pydata.org/pandas-docs/stable/user_guide/indexing.html#returning-a-view-versus-a-copy\n",
            "  df.loc[next_date] = [np.nan for _ in range(len(df.columns)-1)]+[i]\n",
            "<ipython-input-42-3eb2aa88d409>:10: SettingWithCopyWarning: \n",
            "A value is trying to be set on a copy of a slice from a DataFrame\n",
            "\n",
            "See the caveats in the documentation: https://pandas.pydata.org/pandas-docs/stable/user_guide/indexing.html#returning-a-view-versus-a-copy\n",
            "  df.loc[next_date] = [np.nan for _ in range(len(df.columns)-1)]+[i]\n",
            "<ipython-input-42-3eb2aa88d409>:10: SettingWithCopyWarning: \n",
            "A value is trying to be set on a copy of a slice from a DataFrame\n",
            "\n",
            "See the caveats in the documentation: https://pandas.pydata.org/pandas-docs/stable/user_guide/indexing.html#returning-a-view-versus-a-copy\n",
            "  df.loc[next_date] = [np.nan for _ in range(len(df.columns)-1)]+[i]\n",
            "<ipython-input-42-3eb2aa88d409>:10: SettingWithCopyWarning: \n",
            "A value is trying to be set on a copy of a slice from a DataFrame\n",
            "\n",
            "See the caveats in the documentation: https://pandas.pydata.org/pandas-docs/stable/user_guide/indexing.html#returning-a-view-versus-a-copy\n",
            "  df.loc[next_date] = [np.nan for _ in range(len(df.columns)-1)]+[i]\n",
            "<ipython-input-42-3eb2aa88d409>:10: SettingWithCopyWarning: \n",
            "A value is trying to be set on a copy of a slice from a DataFrame\n",
            "\n",
            "See the caveats in the documentation: https://pandas.pydata.org/pandas-docs/stable/user_guide/indexing.html#returning-a-view-versus-a-copy\n",
            "  df.loc[next_date] = [np.nan for _ in range(len(df.columns)-1)]+[i]\n",
            "<ipython-input-42-3eb2aa88d409>:10: SettingWithCopyWarning: \n",
            "A value is trying to be set on a copy of a slice from a DataFrame\n",
            "\n",
            "See the caveats in the documentation: https://pandas.pydata.org/pandas-docs/stable/user_guide/indexing.html#returning-a-view-versus-a-copy\n",
            "  df.loc[next_date] = [np.nan for _ in range(len(df.columns)-1)]+[i]\n",
            "<ipython-input-42-3eb2aa88d409>:10: SettingWithCopyWarning: \n",
            "A value is trying to be set on a copy of a slice from a DataFrame\n",
            "\n",
            "See the caveats in the documentation: https://pandas.pydata.org/pandas-docs/stable/user_guide/indexing.html#returning-a-view-versus-a-copy\n",
            "  df.loc[next_date] = [np.nan for _ in range(len(df.columns)-1)]+[i]\n",
            "<ipython-input-42-3eb2aa88d409>:10: SettingWithCopyWarning: \n",
            "A value is trying to be set on a copy of a slice from a DataFrame\n",
            "\n",
            "See the caveats in the documentation: https://pandas.pydata.org/pandas-docs/stable/user_guide/indexing.html#returning-a-view-versus-a-copy\n",
            "  df.loc[next_date] = [np.nan for _ in range(len(df.columns)-1)]+[i]\n",
            "<ipython-input-42-3eb2aa88d409>:10: SettingWithCopyWarning: \n",
            "A value is trying to be set on a copy of a slice from a DataFrame\n",
            "\n",
            "See the caveats in the documentation: https://pandas.pydata.org/pandas-docs/stable/user_guide/indexing.html#returning-a-view-versus-a-copy\n",
            "  df.loc[next_date] = [np.nan for _ in range(len(df.columns)-1)]+[i]\n",
            "<ipython-input-42-3eb2aa88d409>:10: SettingWithCopyWarning: \n",
            "A value is trying to be set on a copy of a slice from a DataFrame\n",
            "\n",
            "See the caveats in the documentation: https://pandas.pydata.org/pandas-docs/stable/user_guide/indexing.html#returning-a-view-versus-a-copy\n",
            "  df.loc[next_date] = [np.nan for _ in range(len(df.columns)-1)]+[i]\n",
            "<ipython-input-42-3eb2aa88d409>:10: SettingWithCopyWarning: \n",
            "A value is trying to be set on a copy of a slice from a DataFrame\n",
            "\n",
            "See the caveats in the documentation: https://pandas.pydata.org/pandas-docs/stable/user_guide/indexing.html#returning-a-view-versus-a-copy\n",
            "  df.loc[next_date] = [np.nan for _ in range(len(df.columns)-1)]+[i]\n",
            "<ipython-input-42-3eb2aa88d409>:10: SettingWithCopyWarning: \n",
            "A value is trying to be set on a copy of a slice from a DataFrame\n",
            "\n",
            "See the caveats in the documentation: https://pandas.pydata.org/pandas-docs/stable/user_guide/indexing.html#returning-a-view-versus-a-copy\n",
            "  df.loc[next_date] = [np.nan for _ in range(len(df.columns)-1)]+[i]\n",
            "<ipython-input-42-3eb2aa88d409>:10: SettingWithCopyWarning: \n",
            "A value is trying to be set on a copy of a slice from a DataFrame\n",
            "\n",
            "See the caveats in the documentation: https://pandas.pydata.org/pandas-docs/stable/user_guide/indexing.html#returning-a-view-versus-a-copy\n",
            "  df.loc[next_date] = [np.nan for _ in range(len(df.columns)-1)]+[i]\n",
            "<ipython-input-42-3eb2aa88d409>:10: SettingWithCopyWarning: \n",
            "A value is trying to be set on a copy of a slice from a DataFrame\n",
            "\n",
            "See the caveats in the documentation: https://pandas.pydata.org/pandas-docs/stable/user_guide/indexing.html#returning-a-view-versus-a-copy\n",
            "  df.loc[next_date] = [np.nan for _ in range(len(df.columns)-1)]+[i]\n",
            "<ipython-input-42-3eb2aa88d409>:10: SettingWithCopyWarning: \n",
            "A value is trying to be set on a copy of a slice from a DataFrame\n",
            "\n",
            "See the caveats in the documentation: https://pandas.pydata.org/pandas-docs/stable/user_guide/indexing.html#returning-a-view-versus-a-copy\n",
            "  df.loc[next_date] = [np.nan for _ in range(len(df.columns)-1)]+[i]\n",
            "<ipython-input-42-3eb2aa88d409>:10: SettingWithCopyWarning: \n",
            "A value is trying to be set on a copy of a slice from a DataFrame\n",
            "\n",
            "See the caveats in the documentation: https://pandas.pydata.org/pandas-docs/stable/user_guide/indexing.html#returning-a-view-versus-a-copy\n",
            "  df.loc[next_date] = [np.nan for _ in range(len(df.columns)-1)]+[i]\n",
            "<ipython-input-42-3eb2aa88d409>:10: SettingWithCopyWarning: \n",
            "A value is trying to be set on a copy of a slice from a DataFrame\n",
            "\n",
            "See the caveats in the documentation: https://pandas.pydata.org/pandas-docs/stable/user_guide/indexing.html#returning-a-view-versus-a-copy\n",
            "  df.loc[next_date] = [np.nan for _ in range(len(df.columns)-1)]+[i]\n",
            "<ipython-input-42-3eb2aa88d409>:10: SettingWithCopyWarning: \n",
            "A value is trying to be set on a copy of a slice from a DataFrame\n",
            "\n",
            "See the caveats in the documentation: https://pandas.pydata.org/pandas-docs/stable/user_guide/indexing.html#returning-a-view-versus-a-copy\n",
            "  df.loc[next_date] = [np.nan for _ in range(len(df.columns)-1)]+[i]\n",
            "<ipython-input-42-3eb2aa88d409>:10: SettingWithCopyWarning: \n",
            "A value is trying to be set on a copy of a slice from a DataFrame\n",
            "\n",
            "See the caveats in the documentation: https://pandas.pydata.org/pandas-docs/stable/user_guide/indexing.html#returning-a-view-versus-a-copy\n",
            "  df.loc[next_date] = [np.nan for _ in range(len(df.columns)-1)]+[i]\n",
            "<ipython-input-42-3eb2aa88d409>:10: SettingWithCopyWarning: \n",
            "A value is trying to be set on a copy of a slice from a DataFrame\n",
            "\n",
            "See the caveats in the documentation: https://pandas.pydata.org/pandas-docs/stable/user_guide/indexing.html#returning-a-view-versus-a-copy\n",
            "  df.loc[next_date] = [np.nan for _ in range(len(df.columns)-1)]+[i]\n",
            "<ipython-input-42-3eb2aa88d409>:10: SettingWithCopyWarning: \n",
            "A value is trying to be set on a copy of a slice from a DataFrame\n",
            "\n",
            "See the caveats in the documentation: https://pandas.pydata.org/pandas-docs/stable/user_guide/indexing.html#returning-a-view-versus-a-copy\n",
            "  df.loc[next_date] = [np.nan for _ in range(len(df.columns)-1)]+[i]\n",
            "<ipython-input-42-3eb2aa88d409>:10: SettingWithCopyWarning: \n",
            "A value is trying to be set on a copy of a slice from a DataFrame\n",
            "\n",
            "See the caveats in the documentation: https://pandas.pydata.org/pandas-docs/stable/user_guide/indexing.html#returning-a-view-versus-a-copy\n",
            "  df.loc[next_date] = [np.nan for _ in range(len(df.columns)-1)]+[i]\n",
            "<ipython-input-42-3eb2aa88d409>:10: SettingWithCopyWarning: \n",
            "A value is trying to be set on a copy of a slice from a DataFrame\n",
            "\n",
            "See the caveats in the documentation: https://pandas.pydata.org/pandas-docs/stable/user_guide/indexing.html#returning-a-view-versus-a-copy\n",
            "  df.loc[next_date] = [np.nan for _ in range(len(df.columns)-1)]+[i]\n",
            "<ipython-input-42-3eb2aa88d409>:10: SettingWithCopyWarning: \n",
            "A value is trying to be set on a copy of a slice from a DataFrame\n",
            "\n",
            "See the caveats in the documentation: https://pandas.pydata.org/pandas-docs/stable/user_guide/indexing.html#returning-a-view-versus-a-copy\n",
            "  df.loc[next_date] = [np.nan for _ in range(len(df.columns)-1)]+[i]\n",
            "<ipython-input-42-3eb2aa88d409>:10: SettingWithCopyWarning: \n",
            "A value is trying to be set on a copy of a slice from a DataFrame\n",
            "\n",
            "See the caveats in the documentation: https://pandas.pydata.org/pandas-docs/stable/user_guide/indexing.html#returning-a-view-versus-a-copy\n",
            "  df.loc[next_date] = [np.nan for _ in range(len(df.columns)-1)]+[i]\n",
            "<ipython-input-42-3eb2aa88d409>:10: SettingWithCopyWarning: \n",
            "A value is trying to be set on a copy of a slice from a DataFrame\n",
            "\n",
            "See the caveats in the documentation: https://pandas.pydata.org/pandas-docs/stable/user_guide/indexing.html#returning-a-view-versus-a-copy\n",
            "  df.loc[next_date] = [np.nan for _ in range(len(df.columns)-1)]+[i]\n",
            "<ipython-input-42-3eb2aa88d409>:10: SettingWithCopyWarning: \n",
            "A value is trying to be set on a copy of a slice from a DataFrame\n",
            "\n",
            "See the caveats in the documentation: https://pandas.pydata.org/pandas-docs/stable/user_guide/indexing.html#returning-a-view-versus-a-copy\n",
            "  df.loc[next_date] = [np.nan for _ in range(len(df.columns)-1)]+[i]\n",
            "<ipython-input-42-3eb2aa88d409>:10: SettingWithCopyWarning: \n",
            "A value is trying to be set on a copy of a slice from a DataFrame\n",
            "\n",
            "See the caveats in the documentation: https://pandas.pydata.org/pandas-docs/stable/user_guide/indexing.html#returning-a-view-versus-a-copy\n",
            "  df.loc[next_date] = [np.nan for _ in range(len(df.columns)-1)]+[i]\n",
            "<ipython-input-42-3eb2aa88d409>:10: SettingWithCopyWarning: \n",
            "A value is trying to be set on a copy of a slice from a DataFrame\n",
            "\n",
            "See the caveats in the documentation: https://pandas.pydata.org/pandas-docs/stable/user_guide/indexing.html#returning-a-view-versus-a-copy\n",
            "  df.loc[next_date] = [np.nan for _ in range(len(df.columns)-1)]+[i]\n",
            "<ipython-input-42-3eb2aa88d409>:10: SettingWithCopyWarning: \n",
            "A value is trying to be set on a copy of a slice from a DataFrame\n",
            "\n",
            "See the caveats in the documentation: https://pandas.pydata.org/pandas-docs/stable/user_guide/indexing.html#returning-a-view-versus-a-copy\n",
            "  df.loc[next_date] = [np.nan for _ in range(len(df.columns)-1)]+[i]\n",
            "<ipython-input-42-3eb2aa88d409>:10: SettingWithCopyWarning: \n",
            "A value is trying to be set on a copy of a slice from a DataFrame\n",
            "\n",
            "See the caveats in the documentation: https://pandas.pydata.org/pandas-docs/stable/user_guide/indexing.html#returning-a-view-versus-a-copy\n",
            "  df.loc[next_date] = [np.nan for _ in range(len(df.columns)-1)]+[i]\n",
            "<ipython-input-42-3eb2aa88d409>:10: SettingWithCopyWarning: \n",
            "A value is trying to be set on a copy of a slice from a DataFrame\n",
            "\n",
            "See the caveats in the documentation: https://pandas.pydata.org/pandas-docs/stable/user_guide/indexing.html#returning-a-view-versus-a-copy\n",
            "  df.loc[next_date] = [np.nan for _ in range(len(df.columns)-1)]+[i]\n",
            "<ipython-input-42-3eb2aa88d409>:10: SettingWithCopyWarning: \n",
            "A value is trying to be set on a copy of a slice from a DataFrame\n",
            "\n",
            "See the caveats in the documentation: https://pandas.pydata.org/pandas-docs/stable/user_guide/indexing.html#returning-a-view-versus-a-copy\n",
            "  df.loc[next_date] = [np.nan for _ in range(len(df.columns)-1)]+[i]\n",
            "<ipython-input-42-3eb2aa88d409>:10: SettingWithCopyWarning: \n",
            "A value is trying to be set on a copy of a slice from a DataFrame\n",
            "\n",
            "See the caveats in the documentation: https://pandas.pydata.org/pandas-docs/stable/user_guide/indexing.html#returning-a-view-versus-a-copy\n",
            "  df.loc[next_date] = [np.nan for _ in range(len(df.columns)-1)]+[i]\n",
            "<ipython-input-42-3eb2aa88d409>:10: SettingWithCopyWarning: \n",
            "A value is trying to be set on a copy of a slice from a DataFrame\n",
            "\n",
            "See the caveats in the documentation: https://pandas.pydata.org/pandas-docs/stable/user_guide/indexing.html#returning-a-view-versus-a-copy\n",
            "  df.loc[next_date] = [np.nan for _ in range(len(df.columns)-1)]+[i]\n",
            "<ipython-input-42-3eb2aa88d409>:10: SettingWithCopyWarning: \n",
            "A value is trying to be set on a copy of a slice from a DataFrame\n",
            "\n",
            "See the caveats in the documentation: https://pandas.pydata.org/pandas-docs/stable/user_guide/indexing.html#returning-a-view-versus-a-copy\n",
            "  df.loc[next_date] = [np.nan for _ in range(len(df.columns)-1)]+[i]\n",
            "<ipython-input-42-3eb2aa88d409>:10: SettingWithCopyWarning: \n",
            "A value is trying to be set on a copy of a slice from a DataFrame\n",
            "\n",
            "See the caveats in the documentation: https://pandas.pydata.org/pandas-docs/stable/user_guide/indexing.html#returning-a-view-versus-a-copy\n",
            "  df.loc[next_date] = [np.nan for _ in range(len(df.columns)-1)]+[i]\n",
            "<ipython-input-42-3eb2aa88d409>:10: SettingWithCopyWarning: \n",
            "A value is trying to be set on a copy of a slice from a DataFrame\n",
            "\n",
            "See the caveats in the documentation: https://pandas.pydata.org/pandas-docs/stable/user_guide/indexing.html#returning-a-view-versus-a-copy\n",
            "  df.loc[next_date] = [np.nan for _ in range(len(df.columns)-1)]+[i]\n",
            "<ipython-input-42-3eb2aa88d409>:10: SettingWithCopyWarning: \n",
            "A value is trying to be set on a copy of a slice from a DataFrame\n",
            "\n",
            "See the caveats in the documentation: https://pandas.pydata.org/pandas-docs/stable/user_guide/indexing.html#returning-a-view-versus-a-copy\n",
            "  df.loc[next_date] = [np.nan for _ in range(len(df.columns)-1)]+[i]\n",
            "<ipython-input-42-3eb2aa88d409>:10: SettingWithCopyWarning: \n",
            "A value is trying to be set on a copy of a slice from a DataFrame\n",
            "\n",
            "See the caveats in the documentation: https://pandas.pydata.org/pandas-docs/stable/user_guide/indexing.html#returning-a-view-versus-a-copy\n",
            "  df.loc[next_date] = [np.nan for _ in range(len(df.columns)-1)]+[i]\n",
            "<ipython-input-42-3eb2aa88d409>:10: SettingWithCopyWarning: \n",
            "A value is trying to be set on a copy of a slice from a DataFrame\n",
            "\n",
            "See the caveats in the documentation: https://pandas.pydata.org/pandas-docs/stable/user_guide/indexing.html#returning-a-view-versus-a-copy\n",
            "  df.loc[next_date] = [np.nan for _ in range(len(df.columns)-1)]+[i]\n",
            "<ipython-input-42-3eb2aa88d409>:10: SettingWithCopyWarning: \n",
            "A value is trying to be set on a copy of a slice from a DataFrame\n",
            "\n",
            "See the caveats in the documentation: https://pandas.pydata.org/pandas-docs/stable/user_guide/indexing.html#returning-a-view-versus-a-copy\n",
            "  df.loc[next_date] = [np.nan for _ in range(len(df.columns)-1)]+[i]\n",
            "<ipython-input-42-3eb2aa88d409>:10: SettingWithCopyWarning: \n",
            "A value is trying to be set on a copy of a slice from a DataFrame\n",
            "\n",
            "See the caveats in the documentation: https://pandas.pydata.org/pandas-docs/stable/user_guide/indexing.html#returning-a-view-versus-a-copy\n",
            "  df.loc[next_date] = [np.nan for _ in range(len(df.columns)-1)]+[i]\n",
            "<ipython-input-42-3eb2aa88d409>:10: SettingWithCopyWarning: \n",
            "A value is trying to be set on a copy of a slice from a DataFrame\n",
            "\n",
            "See the caveats in the documentation: https://pandas.pydata.org/pandas-docs/stable/user_guide/indexing.html#returning-a-view-versus-a-copy\n",
            "  df.loc[next_date] = [np.nan for _ in range(len(df.columns)-1)]+[i]\n",
            "<ipython-input-42-3eb2aa88d409>:10: SettingWithCopyWarning: \n",
            "A value is trying to be set on a copy of a slice from a DataFrame\n",
            "\n",
            "See the caveats in the documentation: https://pandas.pydata.org/pandas-docs/stable/user_guide/indexing.html#returning-a-view-versus-a-copy\n",
            "  df.loc[next_date] = [np.nan for _ in range(len(df.columns)-1)]+[i]\n",
            "<ipython-input-42-3eb2aa88d409>:10: SettingWithCopyWarning: \n",
            "A value is trying to be set on a copy of a slice from a DataFrame\n",
            "\n",
            "See the caveats in the documentation: https://pandas.pydata.org/pandas-docs/stable/user_guide/indexing.html#returning-a-view-versus-a-copy\n",
            "  df.loc[next_date] = [np.nan for _ in range(len(df.columns)-1)]+[i]\n",
            "<ipython-input-42-3eb2aa88d409>:10: SettingWithCopyWarning: \n",
            "A value is trying to be set on a copy of a slice from a DataFrame\n",
            "\n",
            "See the caveats in the documentation: https://pandas.pydata.org/pandas-docs/stable/user_guide/indexing.html#returning-a-view-versus-a-copy\n",
            "  df.loc[next_date] = [np.nan for _ in range(len(df.columns)-1)]+[i]\n",
            "<ipython-input-42-3eb2aa88d409>:10: SettingWithCopyWarning: \n",
            "A value is trying to be set on a copy of a slice from a DataFrame\n",
            "\n",
            "See the caveats in the documentation: https://pandas.pydata.org/pandas-docs/stable/user_guide/indexing.html#returning-a-view-versus-a-copy\n",
            "  df.loc[next_date] = [np.nan for _ in range(len(df.columns)-1)]+[i]\n",
            "<ipython-input-42-3eb2aa88d409>:10: SettingWithCopyWarning: \n",
            "A value is trying to be set on a copy of a slice from a DataFrame\n",
            "\n",
            "See the caveats in the documentation: https://pandas.pydata.org/pandas-docs/stable/user_guide/indexing.html#returning-a-view-versus-a-copy\n",
            "  df.loc[next_date] = [np.nan for _ in range(len(df.columns)-1)]+[i]\n",
            "<ipython-input-42-3eb2aa88d409>:10: SettingWithCopyWarning: \n",
            "A value is trying to be set on a copy of a slice from a DataFrame\n",
            "\n",
            "See the caveats in the documentation: https://pandas.pydata.org/pandas-docs/stable/user_guide/indexing.html#returning-a-view-versus-a-copy\n",
            "  df.loc[next_date] = [np.nan for _ in range(len(df.columns)-1)]+[i]\n",
            "<ipython-input-42-3eb2aa88d409>:10: SettingWithCopyWarning: \n",
            "A value is trying to be set on a copy of a slice from a DataFrame\n",
            "\n",
            "See the caveats in the documentation: https://pandas.pydata.org/pandas-docs/stable/user_guide/indexing.html#returning-a-view-versus-a-copy\n",
            "  df.loc[next_date] = [np.nan for _ in range(len(df.columns)-1)]+[i]\n",
            "<ipython-input-42-3eb2aa88d409>:10: SettingWithCopyWarning: \n",
            "A value is trying to be set on a copy of a slice from a DataFrame\n",
            "\n",
            "See the caveats in the documentation: https://pandas.pydata.org/pandas-docs/stable/user_guide/indexing.html#returning-a-view-versus-a-copy\n",
            "  df.loc[next_date] = [np.nan for _ in range(len(df.columns)-1)]+[i]\n",
            "<ipython-input-42-3eb2aa88d409>:10: SettingWithCopyWarning: \n",
            "A value is trying to be set on a copy of a slice from a DataFrame\n",
            "\n",
            "See the caveats in the documentation: https://pandas.pydata.org/pandas-docs/stable/user_guide/indexing.html#returning-a-view-versus-a-copy\n",
            "  df.loc[next_date] = [np.nan for _ in range(len(df.columns)-1)]+[i]\n",
            "<ipython-input-42-3eb2aa88d409>:10: SettingWithCopyWarning: \n",
            "A value is trying to be set on a copy of a slice from a DataFrame\n",
            "\n",
            "See the caveats in the documentation: https://pandas.pydata.org/pandas-docs/stable/user_guide/indexing.html#returning-a-view-versus-a-copy\n",
            "  df.loc[next_date] = [np.nan for _ in range(len(df.columns)-1)]+[i]\n",
            "<ipython-input-42-3eb2aa88d409>:10: SettingWithCopyWarning: \n",
            "A value is trying to be set on a copy of a slice from a DataFrame\n",
            "\n",
            "See the caveats in the documentation: https://pandas.pydata.org/pandas-docs/stable/user_guide/indexing.html#returning-a-view-versus-a-copy\n",
            "  df.loc[next_date] = [np.nan for _ in range(len(df.columns)-1)]+[i]\n",
            "<ipython-input-42-3eb2aa88d409>:10: SettingWithCopyWarning: \n",
            "A value is trying to be set on a copy of a slice from a DataFrame\n",
            "\n",
            "See the caveats in the documentation: https://pandas.pydata.org/pandas-docs/stable/user_guide/indexing.html#returning-a-view-versus-a-copy\n",
            "  df.loc[next_date] = [np.nan for _ in range(len(df.columns)-1)]+[i]\n",
            "<ipython-input-42-3eb2aa88d409>:10: SettingWithCopyWarning: \n",
            "A value is trying to be set on a copy of a slice from a DataFrame\n",
            "\n",
            "See the caveats in the documentation: https://pandas.pydata.org/pandas-docs/stable/user_guide/indexing.html#returning-a-view-versus-a-copy\n",
            "  df.loc[next_date] = [np.nan for _ in range(len(df.columns)-1)]+[i]\n",
            "<ipython-input-42-3eb2aa88d409>:10: SettingWithCopyWarning: \n",
            "A value is trying to be set on a copy of a slice from a DataFrame\n",
            "\n",
            "See the caveats in the documentation: https://pandas.pydata.org/pandas-docs/stable/user_guide/indexing.html#returning-a-view-versus-a-copy\n",
            "  df.loc[next_date] = [np.nan for _ in range(len(df.columns)-1)]+[i]\n",
            "<ipython-input-42-3eb2aa88d409>:10: SettingWithCopyWarning: \n",
            "A value is trying to be set on a copy of a slice from a DataFrame\n",
            "\n",
            "See the caveats in the documentation: https://pandas.pydata.org/pandas-docs/stable/user_guide/indexing.html#returning-a-view-versus-a-copy\n",
            "  df.loc[next_date] = [np.nan for _ in range(len(df.columns)-1)]+[i]\n",
            "<ipython-input-42-3eb2aa88d409>:10: SettingWithCopyWarning: \n",
            "A value is trying to be set on a copy of a slice from a DataFrame\n",
            "\n",
            "See the caveats in the documentation: https://pandas.pydata.org/pandas-docs/stable/user_guide/indexing.html#returning-a-view-versus-a-copy\n",
            "  df.loc[next_date] = [np.nan for _ in range(len(df.columns)-1)]+[i]\n",
            "<ipython-input-42-3eb2aa88d409>:10: SettingWithCopyWarning: \n",
            "A value is trying to be set on a copy of a slice from a DataFrame\n",
            "\n",
            "See the caveats in the documentation: https://pandas.pydata.org/pandas-docs/stable/user_guide/indexing.html#returning-a-view-versus-a-copy\n",
            "  df.loc[next_date] = [np.nan for _ in range(len(df.columns)-1)]+[i]\n",
            "<ipython-input-42-3eb2aa88d409>:10: SettingWithCopyWarning: \n",
            "A value is trying to be set on a copy of a slice from a DataFrame\n",
            "\n",
            "See the caveats in the documentation: https://pandas.pydata.org/pandas-docs/stable/user_guide/indexing.html#returning-a-view-versus-a-copy\n",
            "  df.loc[next_date] = [np.nan for _ in range(len(df.columns)-1)]+[i]\n",
            "<ipython-input-42-3eb2aa88d409>:10: SettingWithCopyWarning: \n",
            "A value is trying to be set on a copy of a slice from a DataFrame\n",
            "\n",
            "See the caveats in the documentation: https://pandas.pydata.org/pandas-docs/stable/user_guide/indexing.html#returning-a-view-versus-a-copy\n",
            "  df.loc[next_date] = [np.nan for _ in range(len(df.columns)-1)]+[i]\n",
            "<ipython-input-42-3eb2aa88d409>:10: SettingWithCopyWarning: \n",
            "A value is trying to be set on a copy of a slice from a DataFrame\n",
            "\n",
            "See the caveats in the documentation: https://pandas.pydata.org/pandas-docs/stable/user_guide/indexing.html#returning-a-view-versus-a-copy\n",
            "  df.loc[next_date] = [np.nan for _ in range(len(df.columns)-1)]+[i]\n",
            "<ipython-input-42-3eb2aa88d409>:10: SettingWithCopyWarning: \n",
            "A value is trying to be set on a copy of a slice from a DataFrame\n",
            "\n",
            "See the caveats in the documentation: https://pandas.pydata.org/pandas-docs/stable/user_guide/indexing.html#returning-a-view-versus-a-copy\n",
            "  df.loc[next_date] = [np.nan for _ in range(len(df.columns)-1)]+[i]\n",
            "<ipython-input-42-3eb2aa88d409>:10: SettingWithCopyWarning: \n",
            "A value is trying to be set on a copy of a slice from a DataFrame\n",
            "\n",
            "See the caveats in the documentation: https://pandas.pydata.org/pandas-docs/stable/user_guide/indexing.html#returning-a-view-versus-a-copy\n",
            "  df.loc[next_date] = [np.nan for _ in range(len(df.columns)-1)]+[i]\n",
            "<ipython-input-42-3eb2aa88d409>:10: SettingWithCopyWarning: \n",
            "A value is trying to be set on a copy of a slice from a DataFrame\n",
            "\n",
            "See the caveats in the documentation: https://pandas.pydata.org/pandas-docs/stable/user_guide/indexing.html#returning-a-view-versus-a-copy\n",
            "  df.loc[next_date] = [np.nan for _ in range(len(df.columns)-1)]+[i]\n",
            "<ipython-input-42-3eb2aa88d409>:10: SettingWithCopyWarning: \n",
            "A value is trying to be set on a copy of a slice from a DataFrame\n",
            "\n",
            "See the caveats in the documentation: https://pandas.pydata.org/pandas-docs/stable/user_guide/indexing.html#returning-a-view-versus-a-copy\n",
            "  df.loc[next_date] = [np.nan for _ in range(len(df.columns)-1)]+[i]\n",
            "<ipython-input-42-3eb2aa88d409>:10: SettingWithCopyWarning: \n",
            "A value is trying to be set on a copy of a slice from a DataFrame\n",
            "\n",
            "See the caveats in the documentation: https://pandas.pydata.org/pandas-docs/stable/user_guide/indexing.html#returning-a-view-versus-a-copy\n",
            "  df.loc[next_date] = [np.nan for _ in range(len(df.columns)-1)]+[i]\n",
            "<ipython-input-42-3eb2aa88d409>:10: SettingWithCopyWarning: \n",
            "A value is trying to be set on a copy of a slice from a DataFrame\n",
            "\n",
            "See the caveats in the documentation: https://pandas.pydata.org/pandas-docs/stable/user_guide/indexing.html#returning-a-view-versus-a-copy\n",
            "  df.loc[next_date] = [np.nan for _ in range(len(df.columns)-1)]+[i]\n",
            "<ipython-input-42-3eb2aa88d409>:10: SettingWithCopyWarning: \n",
            "A value is trying to be set on a copy of a slice from a DataFrame\n",
            "\n",
            "See the caveats in the documentation: https://pandas.pydata.org/pandas-docs/stable/user_guide/indexing.html#returning-a-view-versus-a-copy\n",
            "  df.loc[next_date] = [np.nan for _ in range(len(df.columns)-1)]+[i]\n",
            "<ipython-input-42-3eb2aa88d409>:10: SettingWithCopyWarning: \n",
            "A value is trying to be set on a copy of a slice from a DataFrame\n",
            "\n",
            "See the caveats in the documentation: https://pandas.pydata.org/pandas-docs/stable/user_guide/indexing.html#returning-a-view-versus-a-copy\n",
            "  df.loc[next_date] = [np.nan for _ in range(len(df.columns)-1)]+[i]\n",
            "<ipython-input-42-3eb2aa88d409>:10: SettingWithCopyWarning: \n",
            "A value is trying to be set on a copy of a slice from a DataFrame\n",
            "\n",
            "See the caveats in the documentation: https://pandas.pydata.org/pandas-docs/stable/user_guide/indexing.html#returning-a-view-versus-a-copy\n",
            "  df.loc[next_date] = [np.nan for _ in range(len(df.columns)-1)]+[i]\n",
            "<ipython-input-42-3eb2aa88d409>:10: SettingWithCopyWarning: \n",
            "A value is trying to be set on a copy of a slice from a DataFrame\n",
            "\n",
            "See the caveats in the documentation: https://pandas.pydata.org/pandas-docs/stable/user_guide/indexing.html#returning-a-view-versus-a-copy\n",
            "  df.loc[next_date] = [np.nan for _ in range(len(df.columns)-1)]+[i]\n",
            "<ipython-input-42-3eb2aa88d409>:10: SettingWithCopyWarning: \n",
            "A value is trying to be set on a copy of a slice from a DataFrame\n",
            "\n",
            "See the caveats in the documentation: https://pandas.pydata.org/pandas-docs/stable/user_guide/indexing.html#returning-a-view-versus-a-copy\n",
            "  df.loc[next_date] = [np.nan for _ in range(len(df.columns)-1)]+[i]\n",
            "<ipython-input-42-3eb2aa88d409>:10: SettingWithCopyWarning: \n",
            "A value is trying to be set on a copy of a slice from a DataFrame\n",
            "\n",
            "See the caveats in the documentation: https://pandas.pydata.org/pandas-docs/stable/user_guide/indexing.html#returning-a-view-versus-a-copy\n",
            "  df.loc[next_date] = [np.nan for _ in range(len(df.columns)-1)]+[i]\n",
            "<ipython-input-42-3eb2aa88d409>:10: SettingWithCopyWarning: \n",
            "A value is trying to be set on a copy of a slice from a DataFrame\n",
            "\n",
            "See the caveats in the documentation: https://pandas.pydata.org/pandas-docs/stable/user_guide/indexing.html#returning-a-view-versus-a-copy\n",
            "  df.loc[next_date] = [np.nan for _ in range(len(df.columns)-1)]+[i]\n",
            "<ipython-input-42-3eb2aa88d409>:10: SettingWithCopyWarning: \n",
            "A value is trying to be set on a copy of a slice from a DataFrame\n",
            "\n",
            "See the caveats in the documentation: https://pandas.pydata.org/pandas-docs/stable/user_guide/indexing.html#returning-a-view-versus-a-copy\n",
            "  df.loc[next_date] = [np.nan for _ in range(len(df.columns)-1)]+[i]\n",
            "<ipython-input-42-3eb2aa88d409>:10: SettingWithCopyWarning: \n",
            "A value is trying to be set on a copy of a slice from a DataFrame\n",
            "\n",
            "See the caveats in the documentation: https://pandas.pydata.org/pandas-docs/stable/user_guide/indexing.html#returning-a-view-versus-a-copy\n",
            "  df.loc[next_date] = [np.nan for _ in range(len(df.columns)-1)]+[i]\n",
            "<ipython-input-42-3eb2aa88d409>:10: SettingWithCopyWarning: \n",
            "A value is trying to be set on a copy of a slice from a DataFrame\n",
            "\n",
            "See the caveats in the documentation: https://pandas.pydata.org/pandas-docs/stable/user_guide/indexing.html#returning-a-view-versus-a-copy\n",
            "  df.loc[next_date] = [np.nan for _ in range(len(df.columns)-1)]+[i]\n",
            "<ipython-input-42-3eb2aa88d409>:10: SettingWithCopyWarning: \n",
            "A value is trying to be set on a copy of a slice from a DataFrame\n",
            "\n",
            "See the caveats in the documentation: https://pandas.pydata.org/pandas-docs/stable/user_guide/indexing.html#returning-a-view-versus-a-copy\n",
            "  df.loc[next_date] = [np.nan for _ in range(len(df.columns)-1)]+[i]\n",
            "<ipython-input-42-3eb2aa88d409>:10: SettingWithCopyWarning: \n",
            "A value is trying to be set on a copy of a slice from a DataFrame\n",
            "\n",
            "See the caveats in the documentation: https://pandas.pydata.org/pandas-docs/stable/user_guide/indexing.html#returning-a-view-versus-a-copy\n",
            "  df.loc[next_date] = [np.nan for _ in range(len(df.columns)-1)]+[i]\n",
            "<ipython-input-42-3eb2aa88d409>:10: SettingWithCopyWarning: \n",
            "A value is trying to be set on a copy of a slice from a DataFrame\n",
            "\n",
            "See the caveats in the documentation: https://pandas.pydata.org/pandas-docs/stable/user_guide/indexing.html#returning-a-view-versus-a-copy\n",
            "  df.loc[next_date] = [np.nan for _ in range(len(df.columns)-1)]+[i]\n",
            "<ipython-input-42-3eb2aa88d409>:10: SettingWithCopyWarning: \n",
            "A value is trying to be set on a copy of a slice from a DataFrame\n",
            "\n",
            "See the caveats in the documentation: https://pandas.pydata.org/pandas-docs/stable/user_guide/indexing.html#returning-a-view-versus-a-copy\n",
            "  df.loc[next_date] = [np.nan for _ in range(len(df.columns)-1)]+[i]\n",
            "<ipython-input-42-3eb2aa88d409>:10: SettingWithCopyWarning: \n",
            "A value is trying to be set on a copy of a slice from a DataFrame\n",
            "\n",
            "See the caveats in the documentation: https://pandas.pydata.org/pandas-docs/stable/user_guide/indexing.html#returning-a-view-versus-a-copy\n",
            "  df.loc[next_date] = [np.nan for _ in range(len(df.columns)-1)]+[i]\n",
            "<ipython-input-42-3eb2aa88d409>:10: SettingWithCopyWarning: \n",
            "A value is trying to be set on a copy of a slice from a DataFrame\n",
            "\n",
            "See the caveats in the documentation: https://pandas.pydata.org/pandas-docs/stable/user_guide/indexing.html#returning-a-view-versus-a-copy\n",
            "  df.loc[next_date] = [np.nan for _ in range(len(df.columns)-1)]+[i]\n",
            "<ipython-input-42-3eb2aa88d409>:10: SettingWithCopyWarning: \n",
            "A value is trying to be set on a copy of a slice from a DataFrame\n",
            "\n",
            "See the caveats in the documentation: https://pandas.pydata.org/pandas-docs/stable/user_guide/indexing.html#returning-a-view-versus-a-copy\n",
            "  df.loc[next_date] = [np.nan for _ in range(len(df.columns)-1)]+[i]\n",
            "<ipython-input-42-3eb2aa88d409>:10: SettingWithCopyWarning: \n",
            "A value is trying to be set on a copy of a slice from a DataFrame\n",
            "\n",
            "See the caveats in the documentation: https://pandas.pydata.org/pandas-docs/stable/user_guide/indexing.html#returning-a-view-versus-a-copy\n",
            "  df.loc[next_date] = [np.nan for _ in range(len(df.columns)-1)]+[i]\n",
            "<ipython-input-42-3eb2aa88d409>:10: SettingWithCopyWarning: \n",
            "A value is trying to be set on a copy of a slice from a DataFrame\n",
            "\n",
            "See the caveats in the documentation: https://pandas.pydata.org/pandas-docs/stable/user_guide/indexing.html#returning-a-view-versus-a-copy\n",
            "  df.loc[next_date] = [np.nan for _ in range(len(df.columns)-1)]+[i]\n",
            "<ipython-input-42-3eb2aa88d409>:10: SettingWithCopyWarning: \n",
            "A value is trying to be set on a copy of a slice from a DataFrame\n",
            "\n",
            "See the caveats in the documentation: https://pandas.pydata.org/pandas-docs/stable/user_guide/indexing.html#returning-a-view-versus-a-copy\n",
            "  df.loc[next_date] = [np.nan for _ in range(len(df.columns)-1)]+[i]\n",
            "<ipython-input-42-3eb2aa88d409>:10: SettingWithCopyWarning: \n",
            "A value is trying to be set on a copy of a slice from a DataFrame\n",
            "\n",
            "See the caveats in the documentation: https://pandas.pydata.org/pandas-docs/stable/user_guide/indexing.html#returning-a-view-versus-a-copy\n",
            "  df.loc[next_date] = [np.nan for _ in range(len(df.columns)-1)]+[i]\n",
            "<ipython-input-42-3eb2aa88d409>:10: SettingWithCopyWarning: \n",
            "A value is trying to be set on a copy of a slice from a DataFrame\n",
            "\n",
            "See the caveats in the documentation: https://pandas.pydata.org/pandas-docs/stable/user_guide/indexing.html#returning-a-view-versus-a-copy\n",
            "  df.loc[next_date] = [np.nan for _ in range(len(df.columns)-1)]+[i]\n",
            "<ipython-input-42-3eb2aa88d409>:10: SettingWithCopyWarning: \n",
            "A value is trying to be set on a copy of a slice from a DataFrame\n",
            "\n",
            "See the caveats in the documentation: https://pandas.pydata.org/pandas-docs/stable/user_guide/indexing.html#returning-a-view-versus-a-copy\n",
            "  df.loc[next_date] = [np.nan for _ in range(len(df.columns)-1)]+[i]\n",
            "<ipython-input-42-3eb2aa88d409>:10: SettingWithCopyWarning: \n",
            "A value is trying to be set on a copy of a slice from a DataFrame\n",
            "\n",
            "See the caveats in the documentation: https://pandas.pydata.org/pandas-docs/stable/user_guide/indexing.html#returning-a-view-versus-a-copy\n",
            "  df.loc[next_date] = [np.nan for _ in range(len(df.columns)-1)]+[i]\n",
            "<ipython-input-42-3eb2aa88d409>:10: SettingWithCopyWarning: \n",
            "A value is trying to be set on a copy of a slice from a DataFrame\n",
            "\n",
            "See the caveats in the documentation: https://pandas.pydata.org/pandas-docs/stable/user_guide/indexing.html#returning-a-view-versus-a-copy\n",
            "  df.loc[next_date] = [np.nan for _ in range(len(df.columns)-1)]+[i]\n",
            "<ipython-input-42-3eb2aa88d409>:10: SettingWithCopyWarning: \n",
            "A value is trying to be set on a copy of a slice from a DataFrame\n",
            "\n",
            "See the caveats in the documentation: https://pandas.pydata.org/pandas-docs/stable/user_guide/indexing.html#returning-a-view-versus-a-copy\n",
            "  df.loc[next_date] = [np.nan for _ in range(len(df.columns)-1)]+[i]\n",
            "<ipython-input-42-3eb2aa88d409>:10: SettingWithCopyWarning: \n",
            "A value is trying to be set on a copy of a slice from a DataFrame\n",
            "\n",
            "See the caveats in the documentation: https://pandas.pydata.org/pandas-docs/stable/user_guide/indexing.html#returning-a-view-versus-a-copy\n",
            "  df.loc[next_date] = [np.nan for _ in range(len(df.columns)-1)]+[i]\n",
            "<ipython-input-42-3eb2aa88d409>:10: SettingWithCopyWarning: \n",
            "A value is trying to be set on a copy of a slice from a DataFrame\n",
            "\n",
            "See the caveats in the documentation: https://pandas.pydata.org/pandas-docs/stable/user_guide/indexing.html#returning-a-view-versus-a-copy\n",
            "  df.loc[next_date] = [np.nan for _ in range(len(df.columns)-1)]+[i]\n",
            "<ipython-input-42-3eb2aa88d409>:10: SettingWithCopyWarning: \n",
            "A value is trying to be set on a copy of a slice from a DataFrame\n",
            "\n",
            "See the caveats in the documentation: https://pandas.pydata.org/pandas-docs/stable/user_guide/indexing.html#returning-a-view-versus-a-copy\n",
            "  df.loc[next_date] = [np.nan for _ in range(len(df.columns)-1)]+[i]\n",
            "<ipython-input-42-3eb2aa88d409>:10: SettingWithCopyWarning: \n",
            "A value is trying to be set on a copy of a slice from a DataFrame\n",
            "\n",
            "See the caveats in the documentation: https://pandas.pydata.org/pandas-docs/stable/user_guide/indexing.html#returning-a-view-versus-a-copy\n",
            "  df.loc[next_date] = [np.nan for _ in range(len(df.columns)-1)]+[i]\n",
            "<ipython-input-42-3eb2aa88d409>:10: SettingWithCopyWarning: \n",
            "A value is trying to be set on a copy of a slice from a DataFrame\n",
            "\n",
            "See the caveats in the documentation: https://pandas.pydata.org/pandas-docs/stable/user_guide/indexing.html#returning-a-view-versus-a-copy\n",
            "  df.loc[next_date] = [np.nan for _ in range(len(df.columns)-1)]+[i]\n",
            "<ipython-input-42-3eb2aa88d409>:10: SettingWithCopyWarning: \n",
            "A value is trying to be set on a copy of a slice from a DataFrame\n",
            "\n",
            "See the caveats in the documentation: https://pandas.pydata.org/pandas-docs/stable/user_guide/indexing.html#returning-a-view-versus-a-copy\n",
            "  df.loc[next_date] = [np.nan for _ in range(len(df.columns)-1)]+[i]\n",
            "<ipython-input-42-3eb2aa88d409>:10: SettingWithCopyWarning: \n",
            "A value is trying to be set on a copy of a slice from a DataFrame\n",
            "\n",
            "See the caveats in the documentation: https://pandas.pydata.org/pandas-docs/stable/user_guide/indexing.html#returning-a-view-versus-a-copy\n",
            "  df.loc[next_date] = [np.nan for _ in range(len(df.columns)-1)]+[i]\n",
            "<ipython-input-42-3eb2aa88d409>:10: SettingWithCopyWarning: \n",
            "A value is trying to be set on a copy of a slice from a DataFrame\n",
            "\n",
            "See the caveats in the documentation: https://pandas.pydata.org/pandas-docs/stable/user_guide/indexing.html#returning-a-view-versus-a-copy\n",
            "  df.loc[next_date] = [np.nan for _ in range(len(df.columns)-1)]+[i]\n",
            "<ipython-input-42-3eb2aa88d409>:10: SettingWithCopyWarning: \n",
            "A value is trying to be set on a copy of a slice from a DataFrame\n",
            "\n",
            "See the caveats in the documentation: https://pandas.pydata.org/pandas-docs/stable/user_guide/indexing.html#returning-a-view-versus-a-copy\n",
            "  df.loc[next_date] = [np.nan for _ in range(len(df.columns)-1)]+[i]\n",
            "<ipython-input-42-3eb2aa88d409>:10: SettingWithCopyWarning: \n",
            "A value is trying to be set on a copy of a slice from a DataFrame\n",
            "\n",
            "See the caveats in the documentation: https://pandas.pydata.org/pandas-docs/stable/user_guide/indexing.html#returning-a-view-versus-a-copy\n",
            "  df.loc[next_date] = [np.nan for _ in range(len(df.columns)-1)]+[i]\n",
            "<ipython-input-42-3eb2aa88d409>:10: SettingWithCopyWarning: \n",
            "A value is trying to be set on a copy of a slice from a DataFrame\n",
            "\n",
            "See the caveats in the documentation: https://pandas.pydata.org/pandas-docs/stable/user_guide/indexing.html#returning-a-view-versus-a-copy\n",
            "  df.loc[next_date] = [np.nan for _ in range(len(df.columns)-1)]+[i]\n",
            "<ipython-input-42-3eb2aa88d409>:10: SettingWithCopyWarning: \n",
            "A value is trying to be set on a copy of a slice from a DataFrame\n",
            "\n",
            "See the caveats in the documentation: https://pandas.pydata.org/pandas-docs/stable/user_guide/indexing.html#returning-a-view-versus-a-copy\n",
            "  df.loc[next_date] = [np.nan for _ in range(len(df.columns)-1)]+[i]\n",
            "<ipython-input-42-3eb2aa88d409>:10: SettingWithCopyWarning: \n",
            "A value is trying to be set on a copy of a slice from a DataFrame\n",
            "\n",
            "See the caveats in the documentation: https://pandas.pydata.org/pandas-docs/stable/user_guide/indexing.html#returning-a-view-versus-a-copy\n",
            "  df.loc[next_date] = [np.nan for _ in range(len(df.columns)-1)]+[i]\n",
            "<ipython-input-42-3eb2aa88d409>:10: SettingWithCopyWarning: \n",
            "A value is trying to be set on a copy of a slice from a DataFrame\n",
            "\n",
            "See the caveats in the documentation: https://pandas.pydata.org/pandas-docs/stable/user_guide/indexing.html#returning-a-view-versus-a-copy\n",
            "  df.loc[next_date] = [np.nan for _ in range(len(df.columns)-1)]+[i]\n",
            "<ipython-input-42-3eb2aa88d409>:10: SettingWithCopyWarning: \n",
            "A value is trying to be set on a copy of a slice from a DataFrame\n",
            "\n",
            "See the caveats in the documentation: https://pandas.pydata.org/pandas-docs/stable/user_guide/indexing.html#returning-a-view-versus-a-copy\n",
            "  df.loc[next_date] = [np.nan for _ in range(len(df.columns)-1)]+[i]\n",
            "<ipython-input-42-3eb2aa88d409>:10: SettingWithCopyWarning: \n",
            "A value is trying to be set on a copy of a slice from a DataFrame\n",
            "\n",
            "See the caveats in the documentation: https://pandas.pydata.org/pandas-docs/stable/user_guide/indexing.html#returning-a-view-versus-a-copy\n",
            "  df.loc[next_date] = [np.nan for _ in range(len(df.columns)-1)]+[i]\n",
            "<ipython-input-42-3eb2aa88d409>:10: SettingWithCopyWarning: \n",
            "A value is trying to be set on a copy of a slice from a DataFrame\n",
            "\n",
            "See the caveats in the documentation: https://pandas.pydata.org/pandas-docs/stable/user_guide/indexing.html#returning-a-view-versus-a-copy\n",
            "  df.loc[next_date] = [np.nan for _ in range(len(df.columns)-1)]+[i]\n",
            "<ipython-input-42-3eb2aa88d409>:10: SettingWithCopyWarning: \n",
            "A value is trying to be set on a copy of a slice from a DataFrame\n",
            "\n",
            "See the caveats in the documentation: https://pandas.pydata.org/pandas-docs/stable/user_guide/indexing.html#returning-a-view-versus-a-copy\n",
            "  df.loc[next_date] = [np.nan for _ in range(len(df.columns)-1)]+[i]\n",
            "<ipython-input-42-3eb2aa88d409>:10: SettingWithCopyWarning: \n",
            "A value is trying to be set on a copy of a slice from a DataFrame\n",
            "\n",
            "See the caveats in the documentation: https://pandas.pydata.org/pandas-docs/stable/user_guide/indexing.html#returning-a-view-versus-a-copy\n",
            "  df.loc[next_date] = [np.nan for _ in range(len(df.columns)-1)]+[i]\n",
            "<ipython-input-42-3eb2aa88d409>:10: SettingWithCopyWarning: \n",
            "A value is trying to be set on a copy of a slice from a DataFrame\n",
            "\n",
            "See the caveats in the documentation: https://pandas.pydata.org/pandas-docs/stable/user_guide/indexing.html#returning-a-view-versus-a-copy\n",
            "  df.loc[next_date] = [np.nan for _ in range(len(df.columns)-1)]+[i]\n",
            "<ipython-input-42-3eb2aa88d409>:10: SettingWithCopyWarning: \n",
            "A value is trying to be set on a copy of a slice from a DataFrame\n",
            "\n",
            "See the caveats in the documentation: https://pandas.pydata.org/pandas-docs/stable/user_guide/indexing.html#returning-a-view-versus-a-copy\n",
            "  df.loc[next_date] = [np.nan for _ in range(len(df.columns)-1)]+[i]\n",
            "<ipython-input-42-3eb2aa88d409>:10: SettingWithCopyWarning: \n",
            "A value is trying to be set on a copy of a slice from a DataFrame\n",
            "\n",
            "See the caveats in the documentation: https://pandas.pydata.org/pandas-docs/stable/user_guide/indexing.html#returning-a-view-versus-a-copy\n",
            "  df.loc[next_date] = [np.nan for _ in range(len(df.columns)-1)]+[i]\n",
            "<ipython-input-42-3eb2aa88d409>:10: SettingWithCopyWarning: \n",
            "A value is trying to be set on a copy of a slice from a DataFrame\n",
            "\n",
            "See the caveats in the documentation: https://pandas.pydata.org/pandas-docs/stable/user_guide/indexing.html#returning-a-view-versus-a-copy\n",
            "  df.loc[next_date] = [np.nan for _ in range(len(df.columns)-1)]+[i]\n",
            "<ipython-input-42-3eb2aa88d409>:10: SettingWithCopyWarning: \n",
            "A value is trying to be set on a copy of a slice from a DataFrame\n",
            "\n",
            "See the caveats in the documentation: https://pandas.pydata.org/pandas-docs/stable/user_guide/indexing.html#returning-a-view-versus-a-copy\n",
            "  df.loc[next_date] = [np.nan for _ in range(len(df.columns)-1)]+[i]\n",
            "<ipython-input-42-3eb2aa88d409>:10: SettingWithCopyWarning: \n",
            "A value is trying to be set on a copy of a slice from a DataFrame\n",
            "\n",
            "See the caveats in the documentation: https://pandas.pydata.org/pandas-docs/stable/user_guide/indexing.html#returning-a-view-versus-a-copy\n",
            "  df.loc[next_date] = [np.nan for _ in range(len(df.columns)-1)]+[i]\n",
            "<ipython-input-42-3eb2aa88d409>:10: SettingWithCopyWarning: \n",
            "A value is trying to be set on a copy of a slice from a DataFrame\n",
            "\n",
            "See the caveats in the documentation: https://pandas.pydata.org/pandas-docs/stable/user_guide/indexing.html#returning-a-view-versus-a-copy\n",
            "  df.loc[next_date] = [np.nan for _ in range(len(df.columns)-1)]+[i]\n"
          ]
        }
      ]
    },
    {
      "cell_type": "markdown",
      "source": [
        "Menggambarkan prediksi harga saham selanjutnya yang hasilnya digambarkan dengan grafik warna orange yang terlihat cenderung mengalami kenaikan"
      ],
      "metadata": {
        "id": "2KxgoTtphTlz"
      }
    },
    {
      "cell_type": "code",
      "source": [
        "plt.figure(figsize=(18, 8))\n",
        "df['Adj Close'].plot()\n",
        "df['Forecast'].plot()\n",
        "plt.legend(loc=4)\n",
        "plt.xlabel('Date')\n",
        "plt.ylabel('Price')\n",
        "plt.show()"
      ],
      "metadata": {
        "colab": {
          "base_uri": "https://localhost:8080/",
          "height": 508
        },
        "id": "iqnHOgkvWiQa",
        "outputId": "47e24e09-ca64-4aba-d1e2-41e6aaf338be"
      },
      "execution_count": 43,
      "outputs": [
        {
          "output_type": "display_data",
          "data": {
            "text/plain": [
              "<Figure size 1800x800 with 1 Axes>"
            ],
            "image/png": "[encoded data removed]"
          },
          "metadata": {}
        }
      ]
    }
  ],
  "metadata": {
    "accelerator": "TPU",
    "colab": {
      "provenance": [],
      "machine_shape": "hm",
      "gpuClass": "premium",
      "include_colab_link": true
    },
    "kernelspec": {
      "display_name": "Python 3",
      "name": "python3"
    },
    "gpuClass": "premium"
  },
  "nbformat": 4,
  "nbformat_minor": 0
}